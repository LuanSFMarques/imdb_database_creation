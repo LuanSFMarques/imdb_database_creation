{
 "cells": [
  {
   "cell_type": "markdown",
   "id": "d795b0f9-2ba3-433a-a2cd-f9cdcc233b10",
   "metadata": {},
   "source": [
    "# --IMDB MOVIES TO SQL--\n",
    "## Data Analysis process\n",
    "- Import libraries\n",
    "- Load dataset\n",
    "- Data overview\n",
    "- Data Cleaning\n",
    "- Data to SQL"
   ]
  },
  {
   "cell_type": "markdown",
   "id": "2c38e4c1-adda-4d86-9d20-c936884da8a2",
   "metadata": {},
   "source": [
    "## *Import libraries*----------------------------------------------------------------------------"
   ]
  },
  {
   "cell_type": "code",
   "execution_count": 1,
   "id": "a12e202c-b5b9-4286-9cb4-422919628529",
   "metadata": {},
   "outputs": [
    {
     "data": {
      "text/html": [
       "        <script type=\"text/javascript\">\n",
       "        window.PlotlyConfig = {MathJaxConfig: 'local'};\n",
       "        if (window.MathJax && window.MathJax.Hub && window.MathJax.Hub.Config) {window.MathJax.Hub.Config({SVG: {font: \"STIX-Web\"}});}\n",
       "        </script>\n",
       "        <script type=\"module\">import \"https://cdn.plot.ly/plotly-3.0.0.min\"</script>\n",
       "        "
      ]
     },
     "metadata": {},
     "output_type": "display_data"
    }
   ],
   "source": [
    "import numpy as np\n",
    "import pandas as pd\n",
    "import matplotlib.pyplot as plt\n",
    "import plotly.express as px\n",
    "from plotly.offline import init_notebook_mode\n",
    "init_notebook_mode(connected=True)\n",
    "pd.set_option('display.max_columns', None)\n",
    "import warnings\n",
    "warnings.filterwarnings('ignore')\n",
    "import ast"
   ]
  },
  {
   "cell_type": "markdown",
   "id": "0ab1fd63-fac6-417d-846a-20c4dbc8aa03",
   "metadata": {},
   "source": [
    "## *Load Dataset*----------------------------------------------------------------------------"
   ]
  },
  {
   "cell_type": "code",
   "execution_count": 2,
   "id": "6783a102-2380-4ffd-85e2-3b8c2a4fbaf9",
   "metadata": {},
   "outputs": [],
   "source": [
    "raw_data = pd.read_csv('csv_raw/imdb_raw.csv')"
   ]
  },
  {
   "cell_type": "markdown",
   "id": "775efbdb-17e7-4122-a0ff-bd3d16e1fced",
   "metadata": {},
   "source": [
    "## *Data Overview*----------------------------------------------------------------------------"
   ]
  },
  {
   "cell_type": "code",
   "execution_count": 3,
   "id": "b2dfd39f-d98a-4084-bff9-40aaf715604f",
   "metadata": {},
   "outputs": [
    {
     "data": {
      "text/html": [
       "<div>\n",
       "<style scoped>\n",
       "    .dataframe tbody tr th:only-of-type {\n",
       "        vertical-align: middle;\n",
       "    }\n",
       "\n",
       "    .dataframe tbody tr th {\n",
       "        vertical-align: top;\n",
       "    }\n",
       "\n",
       "    .dataframe thead th {\n",
       "        text-align: right;\n",
       "    }\n",
       "</style>\n",
       "<table border=\"1\" class=\"dataframe\">\n",
       "  <thead>\n",
       "    <tr style=\"text-align: right;\">\n",
       "      <th></th>\n",
       "      <th>title</th>\n",
       "      <th>year</th>\n",
       "      <th>certificate</th>\n",
       "      <th>duration</th>\n",
       "      <th>genre</th>\n",
       "      <th>rating</th>\n",
       "      <th>description</th>\n",
       "      <th>stars</th>\n",
       "      <th>votes</th>\n",
       "    </tr>\n",
       "  </thead>\n",
       "  <tbody>\n",
       "    <tr>\n",
       "      <th>0</th>\n",
       "      <td>Cobra Kai</td>\n",
       "      <td>(2018– )</td>\n",
       "      <td>TV-14</td>\n",
       "      <td>30 min</td>\n",
       "      <td>Action, Comedy, Drama</td>\n",
       "      <td>8.5</td>\n",
       "      <td>Decades after their 1984 All Valley Karate Tou...</td>\n",
       "      <td>['Ralph Macchio, ', 'William Zabka, ', 'Courtn...</td>\n",
       "      <td>177,031</td>\n",
       "    </tr>\n",
       "    <tr>\n",
       "      <th>1</th>\n",
       "      <td>The Crown</td>\n",
       "      <td>(2016– )</td>\n",
       "      <td>TV-MA</td>\n",
       "      <td>58 min</td>\n",
       "      <td>Biography, Drama, History</td>\n",
       "      <td>8.7</td>\n",
       "      <td>Follows the political rivalries and romance of...</td>\n",
       "      <td>['Claire Foy, ', 'Olivia Colman, ', 'Imelda St...</td>\n",
       "      <td>199,885</td>\n",
       "    </tr>\n",
       "    <tr>\n",
       "      <th>2</th>\n",
       "      <td>Better Call Saul</td>\n",
       "      <td>(2015–2022)</td>\n",
       "      <td>TV-MA</td>\n",
       "      <td>46 min</td>\n",
       "      <td>Crime, Drama</td>\n",
       "      <td>8.9</td>\n",
       "      <td>The trials and tribulations of criminal lawyer...</td>\n",
       "      <td>['Bob Odenkirk, ', 'Rhea Seehorn, ', 'Jonathan...</td>\n",
       "      <td>501,384</td>\n",
       "    </tr>\n",
       "    <tr>\n",
       "      <th>3</th>\n",
       "      <td>Devil in Ohio</td>\n",
       "      <td>(2022)</td>\n",
       "      <td>TV-MA</td>\n",
       "      <td>356 min</td>\n",
       "      <td>Drama, Horror, Mystery</td>\n",
       "      <td>5.9</td>\n",
       "      <td>When a psychiatrist shelters a mysterious cult...</td>\n",
       "      <td>['Emily Deschanel, ', 'Sam Jaeger, ', 'Gerardo...</td>\n",
       "      <td>9,773</td>\n",
       "    </tr>\n",
       "  </tbody>\n",
       "</table>\n",
       "</div>"
      ],
      "text/plain": [
       "              title         year certificate duration  \\\n",
       "0         Cobra Kai     (2018– )       TV-14   30 min   \n",
       "1         The Crown     (2016– )       TV-MA   58 min   \n",
       "2  Better Call Saul  (2015–2022)       TV-MA   46 min   \n",
       "3     Devil in Ohio       (2022)       TV-MA  356 min   \n",
       "\n",
       "                       genre  rating  \\\n",
       "0      Action, Comedy, Drama     8.5   \n",
       "1  Biography, Drama, History     8.7   \n",
       "2               Crime, Drama     8.9   \n",
       "3     Drama, Horror, Mystery     5.9   \n",
       "\n",
       "                                         description  \\\n",
       "0  Decades after their 1984 All Valley Karate Tou...   \n",
       "1  Follows the political rivalries and romance of...   \n",
       "2  The trials and tribulations of criminal lawyer...   \n",
       "3  When a psychiatrist shelters a mysterious cult...   \n",
       "\n",
       "                                               stars    votes  \n",
       "0  ['Ralph Macchio, ', 'William Zabka, ', 'Courtn...  177,031  \n",
       "1  ['Claire Foy, ', 'Olivia Colman, ', 'Imelda St...  199,885  \n",
       "2  ['Bob Odenkirk, ', 'Rhea Seehorn, ', 'Jonathan...  501,384  \n",
       "3  ['Emily Deschanel, ', 'Sam Jaeger, ', 'Gerardo...    9,773  "
      ]
     },
     "execution_count": 3,
     "metadata": {},
     "output_type": "execute_result"
    }
   ],
   "source": [
    "raw_data.head(4)"
   ]
  },
  {
   "cell_type": "markdown",
   "id": "26b8e030-a61d-4adc-88c7-5aa41d3c930d",
   "metadata": {},
   "source": [
    "As observed, this table contains 9 columns.\n",
    "\n",
    "Let's see the data types too:"
   ]
  },
  {
   "cell_type": "code",
   "execution_count": 4,
   "id": "7f88717c-d545-42bd-86dc-7c0cf08a89ac",
   "metadata": {},
   "outputs": [
    {
     "data": {
      "text/plain": [
       "title           object\n",
       "year            object\n",
       "certificate     object\n",
       "duration        object\n",
       "genre           object\n",
       "rating         float64\n",
       "description     object\n",
       "stars           object\n",
       "votes           object\n",
       "dtype: object"
      ]
     },
     "execution_count": 4,
     "metadata": {},
     "output_type": "execute_result"
    }
   ],
   "source": [
    "raw_data.dtypes"
   ]
  },
  {
   "cell_type": "markdown",
   "id": "8e95d81c-fe63-4d8c-b68d-beffd7489a84",
   "metadata": {},
   "source": [
    "The column \"rating\" has a dtype of \"float64\", but the actual values from the csv file only goes 1 digit after de point. We will upgrade this latter, turning the dtype \"float64\" to \"float16\" for better performance.\n",
    "\n",
    "For now, let's take a better look to the \"stars\" column"
   ]
  },
  {
   "cell_type": "code",
   "execution_count": 5,
   "id": "f3590d80-8e62-4fae-bab4-815cfe8505df",
   "metadata": {},
   "outputs": [
    {
     "data": {
      "text/plain": [
       "0       ['Ralph Macchio, ', 'William Zabka, ', 'Courtn...\n",
       "1       ['Claire Foy, ', 'Olivia Colman, ', 'Imelda St...\n",
       "2       ['Bob Odenkirk, ', 'Rhea Seehorn, ', 'Jonathan...\n",
       "3       ['Emily Deschanel, ', 'Sam Jaeger, ', 'Gerardo...\n",
       "4       ['Zach Aguilar, ', 'Kenichiro Ohashi, ', 'Emi ...\n",
       "                              ...                        \n",
       "9952    ['Morgan Taylor Campbell, ', 'Italia Ricci, ',...\n",
       "9953    ['Andrew Lincoln, ', 'Norman Reedus, ', 'Melis...\n",
       "9954    ['Claire Foy, ', 'Olivia Colman, ', 'Imelda St...\n",
       "9955    ['Jared Padalecki, ', 'Jensen Ackles, ', 'Jim ...\n",
       "9956    ['Emily Deschanel, ', 'Sam Jaeger, ', 'Gerardo...\n",
       "Name: stars, Length: 9957, dtype: object"
      ]
     },
     "execution_count": 5,
     "metadata": {},
     "output_type": "execute_result"
    }
   ],
   "source": [
    "raw_data['stars']"
   ]
  },
  {
   "cell_type": "markdown",
   "id": "b5dddd74-7afe-49e4-b4f9-0b0a903bdbbd",
   "metadata": {},
   "source": [
    "This column contain the type of \"object\", but the if you look closely, it is a list in format of string. Look in the example below"
   ]
  },
  {
   "cell_type": "code",
   "execution_count": 6,
   "id": "7c9bf473-a53f-4f47-a1d4-718ea765566c",
   "metadata": {},
   "outputs": [
    {
     "data": {
      "text/plain": [
       "(\"['Ralph Macchio, ', 'William Zabka, ', 'Courtney Henggeler, ', 'Xolo Maridueña']\",\n",
       " str)"
      ]
     },
     "execution_count": 6,
     "metadata": {},
     "output_type": "execute_result"
    }
   ],
   "source": [
    "raw_data['stars'][0], type(raw_data['stars'][0])"
   ]
  },
  {
   "cell_type": "markdown",
   "id": "d3a9b1fb-17b9-4cb1-971d-8be21eaaec8b",
   "metadata": {},
   "source": [
    "Something better can be made with this, creating a table with artists id as primary key, movie id with foreign key and the artist name...\n",
    "\n",
    "Another weird data is located in the final column of the table, let's look at \"votes\":"
   ]
  },
  {
   "cell_type": "code",
   "execution_count": 7,
   "id": "ebd6bf2c-c734-4e19-8662-9b57b7423850",
   "metadata": {},
   "outputs": [
    {
     "data": {
      "text/plain": [
       "0       177,031\n",
       "1       199,885\n",
       "2       501,384\n",
       "3         9,773\n",
       "4        15,413\n",
       "         ...   \n",
       "9952      3,130\n",
       "9953    970,067\n",
       "9954    199,898\n",
       "9955    439,601\n",
       "9956      9,786\n",
       "Name: votes, Length: 9957, dtype: object"
      ]
     },
     "execution_count": 7,
     "metadata": {},
     "output_type": "execute_result"
    }
   ],
   "source": [
    "raw_data['votes']"
   ]
  },
  {
   "cell_type": "markdown",
   "id": "2257402c-74cd-4072-a266-537879fdf908",
   "metadata": {},
   "source": [
    "This column show to us the number of rating votes to the movie, but the value is \"object\" and not a int. We need to correct this too"
   ]
  },
  {
   "cell_type": "markdown",
   "id": "7eaa85b2-79f0-444a-a61c-7d672045b2ee",
   "metadata": {},
   "source": [
    "Now, look at the column duration. It shows the time of the movie in minutes, but as we can see, this is an object too, and we could not make any math or mean with this data because of it datatype. So, we need to change this too"
   ]
  },
  {
   "cell_type": "code",
   "execution_count": 8,
   "id": "54f305a3-10ab-4c41-b85b-2482155d58f2",
   "metadata": {},
   "outputs": [
    {
     "data": {
      "text/plain": [
       "0     30 min\n",
       "1     58 min\n",
       "2     46 min\n",
       "3    356 min\n",
       "4     24 min\n",
       "Name: duration, dtype: object"
      ]
     },
     "execution_count": 8,
     "metadata": {},
     "output_type": "execute_result"
    }
   ],
   "source": [
    "raw_data['duration'].head(5)"
   ]
  },
  {
   "cell_type": "markdown",
   "id": "5a1abbb5-c2f6-445c-8e84-0c7ddb886799",
   "metadata": {},
   "source": [
    "Finaly, i would like to transform the column \"genre\", that has a \"list\" of values separated by comma, and i would like to separate this type of value in another table, similar thing to what we need to do with the \"stars\""
   ]
  },
  {
   "cell_type": "markdown",
   "id": "d222d450-b57d-4ec8-ab66-c3cb2b071166",
   "metadata": {},
   "source": [
    "## *Data Cleaning*----------------------------------------------------------------------------"
   ]
  },
  {
   "cell_type": "markdown",
   "id": "68dfea81-83c6-4389-9200-c6b638df16af",
   "metadata": {},
   "source": [
    "First, let's make a copy of the raw data before we clean it (it is plausible because this dataset is not large at all)"
   ]
  },
  {
   "cell_type": "code",
   "execution_count": 9,
   "id": "adeea429-2215-4455-8e2b-5fff6941c1fd",
   "metadata": {},
   "outputs": [],
   "source": [
    "clean_data = raw_data.copy()"
   ]
  },
  {
   "cell_type": "code",
   "execution_count": 10,
   "id": "dc39bc6e-3360-48c0-8d17-7f256a070e84",
   "metadata": {},
   "outputs": [
    {
     "data": {
      "text/html": [
       "<div>\n",
       "<style scoped>\n",
       "    .dataframe tbody tr th:only-of-type {\n",
       "        vertical-align: middle;\n",
       "    }\n",
       "\n",
       "    .dataframe tbody tr th {\n",
       "        vertical-align: top;\n",
       "    }\n",
       "\n",
       "    .dataframe thead th {\n",
       "        text-align: right;\n",
       "    }\n",
       "</style>\n",
       "<table border=\"1\" class=\"dataframe\">\n",
       "  <thead>\n",
       "    <tr style=\"text-align: right;\">\n",
       "      <th></th>\n",
       "      <th>title</th>\n",
       "      <th>year</th>\n",
       "      <th>certificate</th>\n",
       "      <th>duration</th>\n",
       "      <th>genre</th>\n",
       "      <th>rating</th>\n",
       "      <th>description</th>\n",
       "      <th>stars</th>\n",
       "      <th>votes</th>\n",
       "    </tr>\n",
       "  </thead>\n",
       "  <tbody>\n",
       "    <tr>\n",
       "      <th>0</th>\n",
       "      <td>Cobra Kai</td>\n",
       "      <td>(2018– )</td>\n",
       "      <td>TV-14</td>\n",
       "      <td>30 min</td>\n",
       "      <td>Action, Comedy, Drama</td>\n",
       "      <td>8.5</td>\n",
       "      <td>Decades after their 1984 All Valley Karate Tou...</td>\n",
       "      <td>['Ralph Macchio, ', 'William Zabka, ', 'Courtn...</td>\n",
       "      <td>177,031</td>\n",
       "    </tr>\n",
       "    <tr>\n",
       "      <th>1</th>\n",
       "      <td>The Crown</td>\n",
       "      <td>(2016– )</td>\n",
       "      <td>TV-MA</td>\n",
       "      <td>58 min</td>\n",
       "      <td>Biography, Drama, History</td>\n",
       "      <td>8.7</td>\n",
       "      <td>Follows the political rivalries and romance of...</td>\n",
       "      <td>['Claire Foy, ', 'Olivia Colman, ', 'Imelda St...</td>\n",
       "      <td>199,885</td>\n",
       "    </tr>\n",
       "  </tbody>\n",
       "</table>\n",
       "</div>"
      ],
      "text/plain": [
       "       title      year certificate duration                      genre  \\\n",
       "0  Cobra Kai  (2018– )       TV-14   30 min      Action, Comedy, Drama   \n",
       "1  The Crown  (2016– )       TV-MA   58 min  Biography, Drama, History   \n",
       "\n",
       "   rating                                        description  \\\n",
       "0     8.5  Decades after their 1984 All Valley Karate Tou...   \n",
       "1     8.7  Follows the political rivalries and romance of...   \n",
       "\n",
       "                                               stars    votes  \n",
       "0  ['Ralph Macchio, ', 'William Zabka, ', 'Courtn...  177,031  \n",
       "1  ['Claire Foy, ', 'Olivia Colman, ', 'Imelda St...  199,885  "
      ]
     },
     "execution_count": 10,
     "metadata": {},
     "output_type": "execute_result"
    }
   ],
   "source": [
    "clean_data.head(2)"
   ]
  },
  {
   "cell_type": "markdown",
   "id": "f7e8d126-00e0-45ec-beec-576afaa20f13",
   "metadata": {},
   "source": [
    "Now let's start with the easy ones: change de dtype of *rating* and *votes* to float32 and int32. The reason is simply to make the format more compact and improve performance!"
   ]
  },
  {
   "cell_type": "code",
   "execution_count": 11,
   "id": "c9127903-16af-4143-8561-88e520883933",
   "metadata": {},
   "outputs": [
    {
     "data": {
      "text/plain": [
       "0    8.5\n",
       "1    8.7\n",
       "2    8.9\n",
       "Name: rating, dtype: float32"
      ]
     },
     "execution_count": 11,
     "metadata": {},
     "output_type": "execute_result"
    }
   ],
   "source": [
    "clean_data['rating'] = raw_data['rating'].astype(np.float32)\n",
    "clean_data['rating'].head(3)"
   ]
  },
  {
   "cell_type": "markdown",
   "id": "14bfba8f-3da9-40b9-914b-aaf2c4caeee0",
   "metadata": {},
   "source": [
    "To convert this object to int, we need first to remove the \",\" from the vote numbers, then we need to choose a value for the null values in \"votes\" column (i choosed 0), and after we can transform to type int32"
   ]
  },
  {
   "cell_type": "code",
   "execution_count": 12,
   "id": "d2b1599f-d9ae-4a5a-9788-39f3db4ca1a5",
   "metadata": {},
   "outputs": [
    {
     "data": {
      "text/plain": [
       "0       177031\n",
       "1       199885\n",
       "2       501384\n",
       "3         9773\n",
       "4        15413\n",
       "         ...  \n",
       "9952      3130\n",
       "9953    970067\n",
       "9954    199898\n",
       "9955    439601\n",
       "9956      9786\n",
       "Name: votes, Length: 9957, dtype: int32"
      ]
     },
     "execution_count": 12,
     "metadata": {},
     "output_type": "execute_result"
    }
   ],
   "source": [
    "clean_data['votes'] = raw_data['votes'].str.replace(',', '')\n",
    "clean_data['votes'] = clean_data['votes'].fillna(0).astype(np.int32)\n",
    "clean_data['votes']"
   ]
  },
  {
   "cell_type": "markdown",
   "id": "63b213d0-2ba6-426b-aa9c-d0c216fcf4c7",
   "metadata": {},
   "source": [
    "Let's turn the \"duration\" column to int32, so we can after make some analysis with this value that would not be possible if it stays in type object"
   ]
  },
  {
   "cell_type": "code",
   "execution_count": 13,
   "id": "9529269a-c04a-4dc4-8e5a-668888390b1d",
   "metadata": {},
   "outputs": [
    {
     "data": {
      "text/plain": [
       "0        30\n",
       "1        58\n",
       "2        46\n",
       "3       356\n",
       "4        24\n",
       "       ... \n",
       "9952     45\n",
       "9953     44\n",
       "9954     58\n",
       "9955     44\n",
       "9956    356\n",
       "Name: duration, Length: 9957, dtype: Int32"
      ]
     },
     "execution_count": 13,
     "metadata": {},
     "output_type": "execute_result"
    }
   ],
   "source": [
    "clean_data['duration'] = raw_data['duration'].str.replace(\" min\", \"\")\n",
    "clean_data['duration'] = clean_data['duration'].astype(pd.Int32Dtype())\n",
    "clean_data['duration']"
   ]
  },
  {
   "cell_type": "code",
   "execution_count": 14,
   "id": "2a52606a-08a4-45c6-92da-0250e907afa0",
   "metadata": {},
   "outputs": [
    {
     "data": {
      "text/plain": [
       "title           object\n",
       "year            object\n",
       "certificate     object\n",
       "duration         Int32\n",
       "genre           object\n",
       "rating         float32\n",
       "description     object\n",
       "stars           object\n",
       "votes            int32\n",
       "dtype: object"
      ]
     },
     "execution_count": 14,
     "metadata": {},
     "output_type": "execute_result"
    }
   ],
   "source": [
    "clean_data.dtypes"
   ]
  },
  {
   "cell_type": "markdown",
   "id": "ade3959d-c0b4-49b9-9ac1-2629be566e91",
   "metadata": {},
   "source": [
    "Cool. Looks like that dtypes are all good. Now we need to check some invalid values in this table, maybe some extremely large values or extremely low"
   ]
  },
  {
   "cell_type": "code",
   "execution_count": 15,
   "id": "53e9e87b-0efb-4cd6-b708-29b58e0bd7aa",
   "metadata": {},
   "outputs": [
    {
     "data": {
      "text/plain": [
       "np.int32(990)"
      ]
     },
     "execution_count": 15,
     "metadata": {},
     "output_type": "execute_result"
    }
   ],
   "source": [
    "clean_data['duration'].max()"
   ]
  },
  {
   "cell_type": "code",
   "execution_count": 16,
   "id": "9675f3e2-c6d3-418d-b18b-f5ed25b2dd11",
   "metadata": {},
   "outputs": [
    {
     "data": {
      "text/html": [
       "<div>\n",
       "<style scoped>\n",
       "    .dataframe tbody tr th:only-of-type {\n",
       "        vertical-align: middle;\n",
       "    }\n",
       "\n",
       "    .dataframe tbody tr th {\n",
       "        vertical-align: top;\n",
       "    }\n",
       "\n",
       "    .dataframe thead th {\n",
       "        text-align: right;\n",
       "    }\n",
       "</style>\n",
       "<table border=\"1\" class=\"dataframe\">\n",
       "  <thead>\n",
       "    <tr style=\"text-align: right;\">\n",
       "      <th></th>\n",
       "      <th>title</th>\n",
       "      <th>year</th>\n",
       "      <th>certificate</th>\n",
       "      <th>duration</th>\n",
       "      <th>genre</th>\n",
       "      <th>rating</th>\n",
       "      <th>description</th>\n",
       "      <th>stars</th>\n",
       "      <th>votes</th>\n",
       "    </tr>\n",
       "  </thead>\n",
       "  <tbody>\n",
       "    <tr>\n",
       "      <th>943</th>\n",
       "      <td>The Vietnam War</td>\n",
       "      <td>(2017)</td>\n",
       "      <td>TV-MA</td>\n",
       "      <td>990</td>\n",
       "      <td>Documentary, History, War</td>\n",
       "      <td>9.1</td>\n",
       "      <td>A comprehensive history of the United States' ...</td>\n",
       "      <td>['Peter Coyote, ', 'Huy Duc, ', 'James Willban...</td>\n",
       "      <td>24632</td>\n",
       "    </tr>\n",
       "  </tbody>\n",
       "</table>\n",
       "</div>"
      ],
      "text/plain": [
       "               title    year certificate  duration                      genre  \\\n",
       "943  The Vietnam War  (2017)       TV-MA       990  Documentary, History, War   \n",
       "\n",
       "     rating                                        description  \\\n",
       "943     9.1  A comprehensive history of the United States' ...   \n",
       "\n",
       "                                                 stars  votes  \n",
       "943  ['Peter Coyote, ', 'Huy Duc, ', 'James Willban...  24632  "
      ]
     },
     "execution_count": 16,
     "metadata": {},
     "output_type": "execute_result"
    }
   ],
   "source": [
    "clean_data.loc[clean_data['duration'] == 990]"
   ]
  },
  {
   "cell_type": "markdown",
   "id": "e1f3f6ea-8645-446a-a3a1-df1d5e375342",
   "metadata": {},
   "source": [
    "The movie with the largest amount of hours is \"The Vietnam War\", and checking in google, in fact it has this extremely large amount of hours... So nothing to modify here"
   ]
  },
  {
   "cell_type": "code",
   "execution_count": 17,
   "id": "a5d7d5d4-76a8-4262-8531-4aea35040907",
   "metadata": {},
   "outputs": [
    {
     "data": {
      "text/html": [
       "<div>\n",
       "<style scoped>\n",
       "    .dataframe tbody tr th:only-of-type {\n",
       "        vertical-align: middle;\n",
       "    }\n",
       "\n",
       "    .dataframe tbody tr th {\n",
       "        vertical-align: top;\n",
       "    }\n",
       "\n",
       "    .dataframe thead th {\n",
       "        text-align: right;\n",
       "    }\n",
       "</style>\n",
       "<table border=\"1\" class=\"dataframe\">\n",
       "  <thead>\n",
       "    <tr style=\"text-align: right;\">\n",
       "      <th></th>\n",
       "      <th>title</th>\n",
       "      <th>year</th>\n",
       "      <th>certificate</th>\n",
       "      <th>duration</th>\n",
       "      <th>genre</th>\n",
       "      <th>rating</th>\n",
       "      <th>description</th>\n",
       "      <th>stars</th>\n",
       "      <th>votes</th>\n",
       "    </tr>\n",
       "  </thead>\n",
       "  <tbody>\n",
       "    <tr>\n",
       "      <th>4155</th>\n",
       "      <td>Horsin' Around</td>\n",
       "      <td>(2014 Video)</td>\n",
       "      <td>NaN</td>\n",
       "      <td>1</td>\n",
       "      <td>Short, Comedy, Music</td>\n",
       "      <td>7.3</td>\n",
       "      <td>The opening title sequence to the spoof 90s si...</td>\n",
       "      <td>[]</td>\n",
       "      <td>1035</td>\n",
       "    </tr>\n",
       "    <tr>\n",
       "      <th>4766</th>\n",
       "      <td>Piggy Tales</td>\n",
       "      <td>(2014–2018)</td>\n",
       "      <td>TV-Y</td>\n",
       "      <td>1</td>\n",
       "      <td>Animation, Adventure, Comedy</td>\n",
       "      <td>6.8</td>\n",
       "      <td>A cartoon series of green cartoon piggies.</td>\n",
       "      <td>['Antti Pääkkönen, ', 'Antti Pääkkönen, ', 'Do...</td>\n",
       "      <td>147</td>\n",
       "    </tr>\n",
       "    <tr>\n",
       "      <th>5524</th>\n",
       "      <td>Pokémon: Happy Birthday to You!</td>\n",
       "      <td>(2017 TV Short)</td>\n",
       "      <td>NaN</td>\n",
       "      <td>1</td>\n",
       "      <td>Animation, Short</td>\n",
       "      <td>5.0</td>\n",
       "      <td>Today is your big day, and Ash, Pikachu and al...</td>\n",
       "      <td>[]</td>\n",
       "      <td>35</td>\n",
       "    </tr>\n",
       "    <tr>\n",
       "      <th>5558</th>\n",
       "      <td>13 Reasons Why: Season 2 Date Announcement Com...</td>\n",
       "      <td>(2018)</td>\n",
       "      <td>Not Rated</td>\n",
       "      <td>1</td>\n",
       "      <td>Short, Drama</td>\n",
       "      <td>7.2</td>\n",
       "      <td>Add a Plot</td>\n",
       "      <td>['Greg Jardin', '| ', '    Stars:', 'Alisha Bo...</td>\n",
       "      <td>260</td>\n",
       "    </tr>\n",
       "    <tr>\n",
       "      <th>6119</th>\n",
       "      <td>Miraculous: Ladybug &amp; Cat Noir: Happy Birthday...</td>\n",
       "      <td>(2017 TV Special)</td>\n",
       "      <td>NaN</td>\n",
       "      <td>1</td>\n",
       "      <td>Animation, Short</td>\n",
       "      <td>7.2</td>\n",
       "      <td>Break dancing, dragons, balloons and a DJ: Lad...</td>\n",
       "      <td>[]</td>\n",
       "      <td>68</td>\n",
       "    </tr>\n",
       "    <tr>\n",
       "      <th>6282</th>\n",
       "      <td>Barbie: Happy Birthday to You!</td>\n",
       "      <td>(2017 TV Special)</td>\n",
       "      <td>NaN</td>\n",
       "      <td>1</td>\n",
       "      <td>Animation, Short</td>\n",
       "      <td>4.9</td>\n",
       "      <td>Get ready to make a wish and have the most ama...</td>\n",
       "      <td>['Ritesh Rajan, ', 'America Young']</td>\n",
       "      <td>16</td>\n",
       "    </tr>\n",
       "    <tr>\n",
       "      <th>6287</th>\n",
       "      <td>LEGO Ninjago: Masters of Spinjitzu: Happy Birt...</td>\n",
       "      <td>(2017 TV Special)</td>\n",
       "      <td>TV-Y7</td>\n",
       "      <td>1</td>\n",
       "      <td>Animation, Short, Action</td>\n",
       "      <td>6.6</td>\n",
       "      <td>LEGO Ninjago heroes Kai, Zane, Jay and Cole wa...</td>\n",
       "      <td>[]</td>\n",
       "      <td>15</td>\n",
       "    </tr>\n",
       "    <tr>\n",
       "      <th>6423</th>\n",
       "      <td>Luke Cage S2: Fresh to Death</td>\n",
       "      <td>(2018 Video)</td>\n",
       "      <td>NaN</td>\n",
       "      <td>1</td>\n",
       "      <td>Short, Drama</td>\n",
       "      <td>NaN</td>\n",
       "      <td>Luke Cage becomes a hero and celebrity after w...</td>\n",
       "      <td>['Matt T. Sample']</td>\n",
       "      <td>0</td>\n",
       "    </tr>\n",
       "    <tr>\n",
       "      <th>6452</th>\n",
       "      <td>Santa Clarita Diet: I Love Bodies</td>\n",
       "      <td>(2018 Video)</td>\n",
       "      <td>NaN</td>\n",
       "      <td>1</td>\n",
       "      <td>Short, Comedy</td>\n",
       "      <td>8.1</td>\n",
       "      <td>Add a Plot</td>\n",
       "      <td>['Matt T. Sample']</td>\n",
       "      <td>9</td>\n",
       "    </tr>\n",
       "    <tr>\n",
       "      <th>6985</th>\n",
       "      <td>LEGO Friends: Happy Birthday to You!</td>\n",
       "      <td>(2017 TV Special)</td>\n",
       "      <td>NaN</td>\n",
       "      <td>1</td>\n",
       "      <td>Animation, Short</td>\n",
       "      <td>3.8</td>\n",
       "      <td>Surprise. The gang's all here to celebrate you...</td>\n",
       "      <td>[]</td>\n",
       "      <td>7</td>\n",
       "    </tr>\n",
       "    <tr>\n",
       "      <th>7103</th>\n",
       "      <td>My Little Pony: Happy Birthday to You!</td>\n",
       "      <td>(2017 TV Special)</td>\n",
       "      <td>NaN</td>\n",
       "      <td>1</td>\n",
       "      <td>Animation, Short</td>\n",
       "      <td>7.2</td>\n",
       "      <td>Did someone say \"birthday\"? Fluttershy and Pin...</td>\n",
       "      <td>[]</td>\n",
       "      <td>12</td>\n",
       "    </tr>\n",
       "    <tr>\n",
       "      <th>7129</th>\n",
       "      <td>Trollhunters: Happy Birthday to You!</td>\n",
       "      <td>(2017 TV Special)</td>\n",
       "      <td>NaN</td>\n",
       "      <td>1</td>\n",
       "      <td>Animation, Short</td>\n",
       "      <td>7.5</td>\n",
       "      <td>What's better than a birthday? How about a cho...</td>\n",
       "      <td>[]</td>\n",
       "      <td>42</td>\n",
       "    </tr>\n",
       "    <tr>\n",
       "      <th>7296</th>\n",
       "      <td>All Hail King Julien: Happy Birthday to You!</td>\n",
       "      <td>(2017 TV Special)</td>\n",
       "      <td>NaN</td>\n",
       "      <td>1</td>\n",
       "      <td>Animation, Short</td>\n",
       "      <td>5.3</td>\n",
       "      <td>Nobody parties like King Julien. And today he'...</td>\n",
       "      <td>[]</td>\n",
       "      <td>23</td>\n",
       "    </tr>\n",
       "    <tr>\n",
       "      <th>7328</th>\n",
       "      <td>Skylanders Academy: Happy Birthday to You!</td>\n",
       "      <td>(2017 TV Special)</td>\n",
       "      <td>NaN</td>\n",
       "      <td>1</td>\n",
       "      <td>Animation, Short</td>\n",
       "      <td>5.2</td>\n",
       "      <td>The Skylanders are working on their most impor...</td>\n",
       "      <td>[]</td>\n",
       "      <td>11</td>\n",
       "    </tr>\n",
       "    <tr>\n",
       "      <th>7565</th>\n",
       "      <td>Dinotrux: Happy Birthday to You!</td>\n",
       "      <td>(2017 TV Special)</td>\n",
       "      <td>NaN</td>\n",
       "      <td>1</td>\n",
       "      <td>Animation, Short</td>\n",
       "      <td>4.5</td>\n",
       "      <td>Ty and the rest of the Dinotrux just found out...</td>\n",
       "      <td>[]</td>\n",
       "      <td>9</td>\n",
       "    </tr>\n",
       "    <tr>\n",
       "      <th>7736</th>\n",
       "      <td>Beat Bugs: Happy Birthday to You!</td>\n",
       "      <td>(2017 TV Special)</td>\n",
       "      <td>NaN</td>\n",
       "      <td>1</td>\n",
       "      <td>Animation, Short</td>\n",
       "      <td>4.6</td>\n",
       "      <td>They say it's your birthday - and there's no o...</td>\n",
       "      <td>[]</td>\n",
       "      <td>6</td>\n",
       "    </tr>\n",
       "  </tbody>\n",
       "</table>\n",
       "</div>"
      ],
      "text/plain": [
       "                                                  title               year  \\\n",
       "4155                                     Horsin' Around       (2014 Video)   \n",
       "4766                                        Piggy Tales        (2014–2018)   \n",
       "5524                    Pokémon: Happy Birthday to You!    (2017 TV Short)   \n",
       "5558  13 Reasons Why: Season 2 Date Announcement Com...             (2018)   \n",
       "6119  Miraculous: Ladybug & Cat Noir: Happy Birthday...  (2017 TV Special)   \n",
       "6282                     Barbie: Happy Birthday to You!  (2017 TV Special)   \n",
       "6287  LEGO Ninjago: Masters of Spinjitzu: Happy Birt...  (2017 TV Special)   \n",
       "6423                       Luke Cage S2: Fresh to Death       (2018 Video)   \n",
       "6452                  Santa Clarita Diet: I Love Bodies       (2018 Video)   \n",
       "6985               LEGO Friends: Happy Birthday to You!  (2017 TV Special)   \n",
       "7103             My Little Pony: Happy Birthday to You!  (2017 TV Special)   \n",
       "7129               Trollhunters: Happy Birthday to You!  (2017 TV Special)   \n",
       "7296       All Hail King Julien: Happy Birthday to You!  (2017 TV Special)   \n",
       "7328         Skylanders Academy: Happy Birthday to You!  (2017 TV Special)   \n",
       "7565                   Dinotrux: Happy Birthday to You!  (2017 TV Special)   \n",
       "7736                  Beat Bugs: Happy Birthday to You!  (2017 TV Special)   \n",
       "\n",
       "     certificate  duration                         genre  rating  \\\n",
       "4155         NaN         1          Short, Comedy, Music     7.3   \n",
       "4766        TV-Y         1  Animation, Adventure, Comedy     6.8   \n",
       "5524         NaN         1              Animation, Short     5.0   \n",
       "5558   Not Rated         1                  Short, Drama     7.2   \n",
       "6119         NaN         1              Animation, Short     7.2   \n",
       "6282         NaN         1              Animation, Short     4.9   \n",
       "6287       TV-Y7         1      Animation, Short, Action     6.6   \n",
       "6423         NaN         1                  Short, Drama     NaN   \n",
       "6452         NaN         1                 Short, Comedy     8.1   \n",
       "6985         NaN         1              Animation, Short     3.8   \n",
       "7103         NaN         1              Animation, Short     7.2   \n",
       "7129         NaN         1              Animation, Short     7.5   \n",
       "7296         NaN         1              Animation, Short     5.3   \n",
       "7328         NaN         1              Animation, Short     5.2   \n",
       "7565         NaN         1              Animation, Short     4.5   \n",
       "7736         NaN         1              Animation, Short     4.6   \n",
       "\n",
       "                                            description  \\\n",
       "4155  The opening title sequence to the spoof 90s si...   \n",
       "4766         A cartoon series of green cartoon piggies.   \n",
       "5524  Today is your big day, and Ash, Pikachu and al...   \n",
       "5558                                         Add a Plot   \n",
       "6119  Break dancing, dragons, balloons and a DJ: Lad...   \n",
       "6282  Get ready to make a wish and have the most ama...   \n",
       "6287  LEGO Ninjago heroes Kai, Zane, Jay and Cole wa...   \n",
       "6423  Luke Cage becomes a hero and celebrity after w...   \n",
       "6452                                         Add a Plot   \n",
       "6985  Surprise. The gang's all here to celebrate you...   \n",
       "7103  Did someone say \"birthday\"? Fluttershy and Pin...   \n",
       "7129  What's better than a birthday? How about a cho...   \n",
       "7296  Nobody parties like King Julien. And today he'...   \n",
       "7328  The Skylanders are working on their most impor...   \n",
       "7565  Ty and the rest of the Dinotrux just found out...   \n",
       "7736  They say it's your birthday - and there's no o...   \n",
       "\n",
       "                                                  stars  votes  \n",
       "4155                                                 []   1035  \n",
       "4766  ['Antti Pääkkönen, ', 'Antti Pääkkönen, ', 'Do...    147  \n",
       "5524                                                 []     35  \n",
       "5558  ['Greg Jardin', '| ', '    Stars:', 'Alisha Bo...    260  \n",
       "6119                                                 []     68  \n",
       "6282                ['Ritesh Rajan, ', 'America Young']     16  \n",
       "6287                                                 []     15  \n",
       "6423                                 ['Matt T. Sample']      0  \n",
       "6452                                 ['Matt T. Sample']      9  \n",
       "6985                                                 []      7  \n",
       "7103                                                 []     12  \n",
       "7129                                                 []     42  \n",
       "7296                                                 []     23  \n",
       "7328                                                 []     11  \n",
       "7565                                                 []      9  \n",
       "7736                                                 []      6  "
      ]
     },
     "execution_count": 17,
     "metadata": {},
     "output_type": "execute_result"
    }
   ],
   "source": [
    "clean_data.loc[clean_data['duration'] == 1]"
   ]
  },
  {
   "cell_type": "markdown",
   "id": "49bf5a48-3279-446b-9958-917278df7205",
   "metadata": {},
   "source": [
    "There we have a problem. This movies show that they have 1 minute of duration, and this is false. We can apply a filter in this whole table that all movies with 4 or less minutes of duration be a NaN value"
   ]
  },
  {
   "cell_type": "code",
   "execution_count": 18,
   "id": "55692f1e-c0f7-4d79-819c-ab0b2d4bb06a",
   "metadata": {},
   "outputs": [],
   "source": [
    "clean_data.loc[clean_data['duration'] <= 4, \"duration\"] = pd.NA"
   ]
  },
  {
   "cell_type": "code",
   "execution_count": 19,
   "id": "0a731ea9-7d5c-4992-a6b6-9c36d01d7339",
   "metadata": {},
   "outputs": [
    {
     "data": {
      "text/html": [
       "<div>\n",
       "<style scoped>\n",
       "    .dataframe tbody tr th:only-of-type {\n",
       "        vertical-align: middle;\n",
       "    }\n",
       "\n",
       "    .dataframe tbody tr th {\n",
       "        vertical-align: top;\n",
       "    }\n",
       "\n",
       "    .dataframe thead th {\n",
       "        text-align: right;\n",
       "    }\n",
       "</style>\n",
       "<table border=\"1\" class=\"dataframe\">\n",
       "  <thead>\n",
       "    <tr style=\"text-align: right;\">\n",
       "      <th></th>\n",
       "      <th>title</th>\n",
       "      <th>year</th>\n",
       "      <th>certificate</th>\n",
       "      <th>duration</th>\n",
       "      <th>genre</th>\n",
       "      <th>rating</th>\n",
       "      <th>description</th>\n",
       "      <th>stars</th>\n",
       "      <th>votes</th>\n",
       "    </tr>\n",
       "  </thead>\n",
       "  <tbody>\n",
       "    <tr>\n",
       "      <th>19</th>\n",
       "      <td>Fate: The Winx Saga</td>\n",
       "      <td>(2021– )</td>\n",
       "      <td>TV-MA</td>\n",
       "      <td>&lt;NA&gt;</td>\n",
       "      <td>Action, Adventure, Drama</td>\n",
       "      <td>6.9</td>\n",
       "      <td>A live-action adaptation of Nickelodeon's Winx...</td>\n",
       "      <td>['Sadie Soverall, ', 'Abigail Cowen, ', 'Fredd...</td>\n",
       "      <td>43179</td>\n",
       "    </tr>\n",
       "    <tr>\n",
       "      <th>67</th>\n",
       "      <td>Wednesday</td>\n",
       "      <td>(2022– )</td>\n",
       "      <td>NaN</td>\n",
       "      <td>&lt;NA&gt;</td>\n",
       "      <td>Comedy, Family, Fantasy</td>\n",
       "      <td>NaN</td>\n",
       "      <td>Follows Wednesday Addams' years as a student, ...</td>\n",
       "      <td>['Jenna Ortega, ', 'Christina Ricci, ', 'Cathe...</td>\n",
       "      <td>0</td>\n",
       "    </tr>\n",
       "    <tr>\n",
       "      <th>77</th>\n",
       "      <td>The Lørenskog Disappearance</td>\n",
       "      <td>(2021)</td>\n",
       "      <td>TV-MA</td>\n",
       "      <td>&lt;NA&gt;</td>\n",
       "      <td>Documentary, Crime</td>\n",
       "      <td>6.1</td>\n",
       "      <td>What happened to Anne-Elisabeth Hagen? Where i...</td>\n",
       "      <td>[]</td>\n",
       "      <td>668</td>\n",
       "    </tr>\n",
       "    <tr>\n",
       "      <th>168</th>\n",
       "      <td>Terim</td>\n",
       "      <td>(2022– )</td>\n",
       "      <td>TV-14</td>\n",
       "      <td>&lt;NA&gt;</td>\n",
       "      <td>Documentary, Biography, Sport</td>\n",
       "      <td>7.0</td>\n",
       "      <td>Legendary manager Fatih Terim recounts his foo...</td>\n",
       "      <td>['Fatih Terim, ', 'Bülent Timurlenk, ', 'Okan ...</td>\n",
       "      <td>4279</td>\n",
       "    </tr>\n",
       "    <tr>\n",
       "      <th>199</th>\n",
       "      <td>Dated and Related</td>\n",
       "      <td>(2022– )</td>\n",
       "      <td>TV-MA</td>\n",
       "      <td>&lt;NA&gt;</td>\n",
       "      <td>Reality-TV</td>\n",
       "      <td>4.3</td>\n",
       "      <td>Pairs of siblings see each other's love life u...</td>\n",
       "      <td>['Joey Roppo, ', 'Jason Cohen, ', 'Christopher...</td>\n",
       "      <td>379</td>\n",
       "    </tr>\n",
       "    <tr>\n",
       "      <th>...</th>\n",
       "      <td>...</td>\n",
       "      <td>...</td>\n",
       "      <td>...</td>\n",
       "      <td>...</td>\n",
       "      <td>...</td>\n",
       "      <td>...</td>\n",
       "      <td>...</td>\n",
       "      <td>...</td>\n",
       "      <td>...</td>\n",
       "    </tr>\n",
       "    <tr>\n",
       "      <th>9900</th>\n",
       "      <td>Chocolate</td>\n",
       "      <td>(2019–2020)</td>\n",
       "      <td>NaN</td>\n",
       "      <td>&lt;NA&gt;</td>\n",
       "      <td>Drama, Romance</td>\n",
       "      <td>8.8</td>\n",
       "      <td>Kang chooses what's most important to him. Cha...</td>\n",
       "      <td>['Lee Hyeong-min', '| ', '    Stars:', 'Ha Ji-...</td>\n",
       "      <td>12</td>\n",
       "    </tr>\n",
       "    <tr>\n",
       "      <th>9910</th>\n",
       "      <td>Vikings</td>\n",
       "      <td>(2013–2020)</td>\n",
       "      <td>TV-MA</td>\n",
       "      <td>&lt;NA&gt;</td>\n",
       "      <td>Action, Adventure, Drama</td>\n",
       "      <td>7.5</td>\n",
       "      <td>After leaving Kattegat, Ivar the Boneless emba...</td>\n",
       "      <td>['Karla Braun', '| ', '    Stars:', 'Alex Høgh...</td>\n",
       "      <td>262</td>\n",
       "    </tr>\n",
       "    <tr>\n",
       "      <th>9913</th>\n",
       "      <td>Unstoppable</td>\n",
       "      <td>(2020– )</td>\n",
       "      <td>NaN</td>\n",
       "      <td>&lt;NA&gt;</td>\n",
       "      <td>Comedy, Drama</td>\n",
       "      <td>8.4</td>\n",
       "      <td>A visit to Vera's vacation house brings back p...</td>\n",
       "      <td>['Diego Martínez Ulanosky', '| ', '    Stars:'...</td>\n",
       "      <td>41</td>\n",
       "    </tr>\n",
       "    <tr>\n",
       "      <th>9920</th>\n",
       "      <td>The Upshaws</td>\n",
       "      <td>(2021– )</td>\n",
       "      <td>TV-14</td>\n",
       "      <td>&lt;NA&gt;</td>\n",
       "      <td>Comedy, Family</td>\n",
       "      <td>6.4</td>\n",
       "      <td>When Tasha gets into an accident, Bernie comes...</td>\n",
       "      <td>['Sheldon Epps', '| ', '    Stars:', 'Mike Epp...</td>\n",
       "      <td>97</td>\n",
       "    </tr>\n",
       "    <tr>\n",
       "      <th>9936</th>\n",
       "      <td>Fate: The Winx Saga</td>\n",
       "      <td>(2021– )</td>\n",
       "      <td>TV-MA</td>\n",
       "      <td>&lt;NA&gt;</td>\n",
       "      <td>Action, Adventure, Drama</td>\n",
       "      <td>6.9</td>\n",
       "      <td>A live-action adaptation of Nickelodeon's Winx...</td>\n",
       "      <td>['Sadie Soverall, ', 'Abigail Cowen, ', 'Fredd...</td>\n",
       "      <td>43185</td>\n",
       "    </tr>\n",
       "  </tbody>\n",
       "</table>\n",
       "<p>2075 rows × 9 columns</p>\n",
       "</div>"
      ],
      "text/plain": [
       "                            title         year certificate  duration  \\\n",
       "19            Fate: The Winx Saga     (2021– )       TV-MA      <NA>   \n",
       "67                      Wednesday     (2022– )         NaN      <NA>   \n",
       "77    The Lørenskog Disappearance       (2021)       TV-MA      <NA>   \n",
       "168                         Terim     (2022– )       TV-14      <NA>   \n",
       "199             Dated and Related     (2022– )       TV-MA      <NA>   \n",
       "...                           ...          ...         ...       ...   \n",
       "9900                    Chocolate  (2019–2020)         NaN      <NA>   \n",
       "9910                      Vikings  (2013–2020)       TV-MA      <NA>   \n",
       "9913                  Unstoppable     (2020– )         NaN      <NA>   \n",
       "9920                  The Upshaws     (2021– )       TV-14      <NA>   \n",
       "9936          Fate: The Winx Saga     (2021– )       TV-MA      <NA>   \n",
       "\n",
       "                              genre  rating  \\\n",
       "19         Action, Adventure, Drama     6.9   \n",
       "67          Comedy, Family, Fantasy     NaN   \n",
       "77               Documentary, Crime     6.1   \n",
       "168   Documentary, Biography, Sport     7.0   \n",
       "199                      Reality-TV     4.3   \n",
       "...                             ...     ...   \n",
       "9900                 Drama, Romance     8.8   \n",
       "9910       Action, Adventure, Drama     7.5   \n",
       "9913                  Comedy, Drama     8.4   \n",
       "9920                 Comedy, Family     6.4   \n",
       "9936       Action, Adventure, Drama     6.9   \n",
       "\n",
       "                                            description  \\\n",
       "19    A live-action adaptation of Nickelodeon's Winx...   \n",
       "67    Follows Wednesday Addams' years as a student, ...   \n",
       "77    What happened to Anne-Elisabeth Hagen? Where i...   \n",
       "168   Legendary manager Fatih Terim recounts his foo...   \n",
       "199   Pairs of siblings see each other's love life u...   \n",
       "...                                                 ...   \n",
       "9900  Kang chooses what's most important to him. Cha...   \n",
       "9910  After leaving Kattegat, Ivar the Boneless emba...   \n",
       "9913  A visit to Vera's vacation house brings back p...   \n",
       "9920  When Tasha gets into an accident, Bernie comes...   \n",
       "9936  A live-action adaptation of Nickelodeon's Winx...   \n",
       "\n",
       "                                                  stars  votes  \n",
       "19    ['Sadie Soverall, ', 'Abigail Cowen, ', 'Fredd...  43179  \n",
       "67    ['Jenna Ortega, ', 'Christina Ricci, ', 'Cathe...      0  \n",
       "77                                                   []    668  \n",
       "168   ['Fatih Terim, ', 'Bülent Timurlenk, ', 'Okan ...   4279  \n",
       "199   ['Joey Roppo, ', 'Jason Cohen, ', 'Christopher...    379  \n",
       "...                                                 ...    ...  \n",
       "9900  ['Lee Hyeong-min', '| ', '    Stars:', 'Ha Ji-...     12  \n",
       "9910  ['Karla Braun', '| ', '    Stars:', 'Alex Høgh...    262  \n",
       "9913  ['Diego Martínez Ulanosky', '| ', '    Stars:'...     41  \n",
       "9920  ['Sheldon Epps', '| ', '    Stars:', 'Mike Epp...     97  \n",
       "9936  ['Sadie Soverall, ', 'Abigail Cowen, ', 'Fredd...  43185  \n",
       "\n",
       "[2075 rows x 9 columns]"
      ]
     },
     "execution_count": 19,
     "metadata": {},
     "output_type": "execute_result"
    }
   ],
   "source": [
    "clean_data.loc[clean_data['duration'].isnull()]"
   ]
  },
  {
   "cell_type": "markdown",
   "id": "0c5fcc72-017a-4d3d-834e-b1a5a7b3f0cb",
   "metadata": {},
   "source": [
    "Time to turn the movies with 0 votes to NaN too"
   ]
  },
  {
   "cell_type": "code",
   "execution_count": 20,
   "id": "a70d8a09-dcf8-4279-bb6f-4776746c673f",
   "metadata": {},
   "outputs": [],
   "source": [
    "clean_data.loc[clean_data['votes'] == 0, 'votes'] = np.nan"
   ]
  },
  {
   "cell_type": "markdown",
   "id": "641b3c19-33e4-419a-8372-1b59c96b4eaa",
   "metadata": {},
   "source": [
    "Now the hard part, we need to turn the start column in a separated column from the rest of the table, and make is a \"new table\". This is for the final process of take it to sql"
   ]
  },
  {
   "cell_type": "code",
   "execution_count": 21,
   "id": "87e687f8-9103-4e8e-bde1-dfa22cceeb10",
   "metadata": {},
   "outputs": [],
   "source": [
    "stars_table = clean_data.pop('stars')"
   ]
  },
  {
   "cell_type": "code",
   "execution_count": 22,
   "id": "01a7260d-cd13-4216-b667-c7b636c5ec8e",
   "metadata": {},
   "outputs": [
    {
     "data": {
      "text/html": [
       "<div>\n",
       "<style scoped>\n",
       "    .dataframe tbody tr th:only-of-type {\n",
       "        vertical-align: middle;\n",
       "    }\n",
       "\n",
       "    .dataframe tbody tr th {\n",
       "        vertical-align: top;\n",
       "    }\n",
       "\n",
       "    .dataframe thead th {\n",
       "        text-align: right;\n",
       "    }\n",
       "</style>\n",
       "<table border=\"1\" class=\"dataframe\">\n",
       "  <thead>\n",
       "    <tr style=\"text-align: right;\">\n",
       "      <th></th>\n",
       "      <th>movie_id</th>\n",
       "      <th>star_name</th>\n",
       "    </tr>\n",
       "  </thead>\n",
       "  <tbody>\n",
       "    <tr>\n",
       "      <th>0</th>\n",
       "      <td>0</td>\n",
       "      <td>Ralph Macchio</td>\n",
       "    </tr>\n",
       "    <tr>\n",
       "      <th>1</th>\n",
       "      <td>0</td>\n",
       "      <td>William Zabka</td>\n",
       "    </tr>\n",
       "    <tr>\n",
       "      <th>2</th>\n",
       "      <td>0</td>\n",
       "      <td>Courtney Henggeler</td>\n",
       "    </tr>\n",
       "    <tr>\n",
       "      <th>3</th>\n",
       "      <td>0</td>\n",
       "      <td>Xolo Maridueña</td>\n",
       "    </tr>\n",
       "    <tr>\n",
       "      <th>4</th>\n",
       "      <td>1</td>\n",
       "      <td>Claire Foy</td>\n",
       "    </tr>\n",
       "    <tr>\n",
       "      <th>...</th>\n",
       "      <td>...</td>\n",
       "      <td>...</td>\n",
       "    </tr>\n",
       "    <tr>\n",
       "      <th>53786</th>\n",
       "      <td>9955</td>\n",
       "      <td>Misha Collins</td>\n",
       "    </tr>\n",
       "    <tr>\n",
       "      <th>53787</th>\n",
       "      <td>9956</td>\n",
       "      <td>Emily Deschanel</td>\n",
       "    </tr>\n",
       "    <tr>\n",
       "      <th>53788</th>\n",
       "      <td>9956</td>\n",
       "      <td>Sam Jaeger</td>\n",
       "    </tr>\n",
       "    <tr>\n",
       "      <th>53789</th>\n",
       "      <td>9956</td>\n",
       "      <td>Gerardo Celasco</td>\n",
       "    </tr>\n",
       "    <tr>\n",
       "      <th>53790</th>\n",
       "      <td>9956</td>\n",
       "      <td>Madeleine Arthur</td>\n",
       "    </tr>\n",
       "  </tbody>\n",
       "</table>\n",
       "<p>53791 rows × 2 columns</p>\n",
       "</div>"
      ],
      "text/plain": [
       "       movie_id           star_name\n",
       "0             0       Ralph Macchio\n",
       "1             0       William Zabka\n",
       "2             0  Courtney Henggeler\n",
       "3             0      Xolo Maridueña\n",
       "4             1          Claire Foy\n",
       "...         ...                 ...\n",
       "53786      9955       Misha Collins\n",
       "53787      9956     Emily Deschanel\n",
       "53788      9956          Sam Jaeger\n",
       "53789      9956     Gerardo Celasco\n",
       "53790      9956    Madeleine Arthur\n",
       "\n",
       "[53791 rows x 2 columns]"
      ]
     },
     "execution_count": 22,
     "metadata": {},
     "output_type": "execute_result"
    }
   ],
   "source": [
    "stars_series = stars_table\n",
    "\n",
    "movie_star_list = []\n",
    "for movie_id, star_list in stars_series.items():\n",
    "    for star in ast.literal_eval(star_list):\n",
    "        movie_star_list.append({'movie_id':movie_id, 'star_name': star.replace(\",\",\"\").strip()})\n",
    "movie_star_df = pd.DataFrame(movie_star_list)\n",
    "movie_star_df"
   ]
  },
  {
   "cell_type": "code",
   "execution_count": 23,
   "id": "f08d7589-978c-4d6e-a595-fea8b3957f31",
   "metadata": {},
   "outputs": [
    {
     "data": {
      "text/html": [
       "<div>\n",
       "<style scoped>\n",
       "    .dataframe tbody tr th:only-of-type {\n",
       "        vertical-align: middle;\n",
       "    }\n",
       "\n",
       "    .dataframe tbody tr th {\n",
       "        vertical-align: top;\n",
       "    }\n",
       "\n",
       "    .dataframe thead th {\n",
       "        text-align: right;\n",
       "    }\n",
       "</style>\n",
       "<table border=\"1\" class=\"dataframe\">\n",
       "  <thead>\n",
       "    <tr style=\"text-align: right;\">\n",
       "      <th></th>\n",
       "      <th>star_id</th>\n",
       "      <th>star_name</th>\n",
       "    </tr>\n",
       "  </thead>\n",
       "  <tbody>\n",
       "    <tr>\n",
       "      <th>0</th>\n",
       "      <td>1</td>\n",
       "      <td>Ralph Macchio</td>\n",
       "    </tr>\n",
       "    <tr>\n",
       "      <th>1</th>\n",
       "      <td>2</td>\n",
       "      <td>William Zabka</td>\n",
       "    </tr>\n",
       "    <tr>\n",
       "      <th>2</th>\n",
       "      <td>3</td>\n",
       "      <td>Courtney Henggeler</td>\n",
       "    </tr>\n",
       "    <tr>\n",
       "      <th>3</th>\n",
       "      <td>4</td>\n",
       "      <td>Xolo Maridueña</td>\n",
       "    </tr>\n",
       "    <tr>\n",
       "      <th>4</th>\n",
       "      <td>5</td>\n",
       "      <td>Claire Foy</td>\n",
       "    </tr>\n",
       "    <tr>\n",
       "      <th>...</th>\n",
       "      <td>...</td>\n",
       "      <td>...</td>\n",
       "    </tr>\n",
       "    <tr>\n",
       "      <th>24014</th>\n",
       "      <td>24015</td>\n",
       "      <td>Antonio DePina</td>\n",
       "    </tr>\n",
       "    <tr>\n",
       "      <th>24015</th>\n",
       "      <td>24016</td>\n",
       "      <td>Mira Nair</td>\n",
       "    </tr>\n",
       "    <tr>\n",
       "      <th>24016</th>\n",
       "      <td>24017</td>\n",
       "      <td>Boloram Das</td>\n",
       "    </tr>\n",
       "    <tr>\n",
       "      <th>24017</th>\n",
       "      <td>24018</td>\n",
       "      <td>John Hyams</td>\n",
       "    </tr>\n",
       "    <tr>\n",
       "      <th>24018</th>\n",
       "      <td>24019</td>\n",
       "      <td>Sheldon Epps</td>\n",
       "    </tr>\n",
       "  </tbody>\n",
       "</table>\n",
       "<p>24019 rows × 2 columns</p>\n",
       "</div>"
      ],
      "text/plain": [
       "       star_id           star_name\n",
       "0            1       Ralph Macchio\n",
       "1            2       William Zabka\n",
       "2            3  Courtney Henggeler\n",
       "3            4      Xolo Maridueña\n",
       "4            5          Claire Foy\n",
       "...        ...                 ...\n",
       "24014    24015      Antonio DePina\n",
       "24015    24016           Mira Nair\n",
       "24016    24017         Boloram Das\n",
       "24017    24018          John Hyams\n",
       "24018    24019        Sheldon Epps\n",
       "\n",
       "[24019 rows x 2 columns]"
      ]
     },
     "execution_count": 23,
     "metadata": {},
     "output_type": "execute_result"
    }
   ],
   "source": [
    "unique_stars = movie_star_df['star_name'].drop_duplicates().reset_index(drop=True)\n",
    "star_table = pd.DataFrame({'star_id': range(1, len(unique_stars)+1), 'star_name': unique_stars})\n",
    "star_table"
   ]
  },
  {
   "cell_type": "code",
   "execution_count": 31,
   "id": "4e01d313-ed12-4255-95b3-f05f4ab49a4e",
   "metadata": {},
   "outputs": [
    {
     "data": {
      "text/html": [
       "<div>\n",
       "<style scoped>\n",
       "    .dataframe tbody tr th:only-of-type {\n",
       "        vertical-align: middle;\n",
       "    }\n",
       "\n",
       "    .dataframe tbody tr th {\n",
       "        vertical-align: top;\n",
       "    }\n",
       "\n",
       "    .dataframe thead th {\n",
       "        text-align: right;\n",
       "    }\n",
       "</style>\n",
       "<table border=\"1\" class=\"dataframe\">\n",
       "  <thead>\n",
       "    <tr style=\"text-align: right;\">\n",
       "      <th></th>\n",
       "      <th>movie_id</th>\n",
       "      <th>star_id</th>\n",
       "    </tr>\n",
       "  </thead>\n",
       "  <tbody>\n",
       "    <tr>\n",
       "      <th>0</th>\n",
       "      <td>0</td>\n",
       "      <td>1</td>\n",
       "    </tr>\n",
       "    <tr>\n",
       "      <th>1</th>\n",
       "      <td>0</td>\n",
       "      <td>2</td>\n",
       "    </tr>\n",
       "    <tr>\n",
       "      <th>2</th>\n",
       "      <td>0</td>\n",
       "      <td>3</td>\n",
       "    </tr>\n",
       "    <tr>\n",
       "      <th>3</th>\n",
       "      <td>0</td>\n",
       "      <td>4</td>\n",
       "    </tr>\n",
       "    <tr>\n",
       "      <th>4</th>\n",
       "      <td>1</td>\n",
       "      <td>5</td>\n",
       "    </tr>\n",
       "    <tr>\n",
       "      <th>...</th>\n",
       "      <td>...</td>\n",
       "      <td>...</td>\n",
       "    </tr>\n",
       "    <tr>\n",
       "      <th>53786</th>\n",
       "      <td>9955</td>\n",
       "      <td>101</td>\n",
       "    </tr>\n",
       "    <tr>\n",
       "      <th>53787</th>\n",
       "      <td>9956</td>\n",
       "      <td>13</td>\n",
       "    </tr>\n",
       "    <tr>\n",
       "      <th>53788</th>\n",
       "      <td>9956</td>\n",
       "      <td>14</td>\n",
       "    </tr>\n",
       "    <tr>\n",
       "      <th>53789</th>\n",
       "      <td>9956</td>\n",
       "      <td>15</td>\n",
       "    </tr>\n",
       "    <tr>\n",
       "      <th>53790</th>\n",
       "      <td>9956</td>\n",
       "      <td>16</td>\n",
       "    </tr>\n",
       "  </tbody>\n",
       "</table>\n",
       "<p>53791 rows × 2 columns</p>\n",
       "</div>"
      ],
      "text/plain": [
       "       movie_id  star_id\n",
       "0             0        1\n",
       "1             0        2\n",
       "2             0        3\n",
       "3             0        4\n",
       "4             1        5\n",
       "...         ...      ...\n",
       "53786      9955      101\n",
       "53787      9956       13\n",
       "53788      9956       14\n",
       "53789      9956       15\n",
       "53790      9956       16\n",
       "\n",
       "[53791 rows x 2 columns]"
      ]
     },
     "execution_count": 31,
     "metadata": {},
     "output_type": "execute_result"
    }
   ],
   "source": [
    "movie_star_df = movie_star_df.merge(star_table, on='star_name', how='left')\n",
    "movie_star_table = movie_star_df[['movie_id', 'star_id']]\n",
    "movie_star_table"
   ]
  },
  {
   "cell_type": "code",
   "execution_count": null,
   "id": "de6d40c6-5aeb-4a65-9425-89f6cee4cf0f",
   "metadata": {},
   "outputs": [],
   "source": [
    "clean_data.insert(0, 'movie_id', clean_data.index)"
   ]
  },
  {
   "cell_type": "markdown",
   "id": "96c478e6-efe4-41e4-b610-b6fa5255aa53",
   "metadata": {},
   "source": [
    "Now, let's see all the tables we have:"
   ]
  },
  {
   "cell_type": "code",
   "execution_count": 29,
   "id": "28e1e8a1-63de-4c5f-9b73-a8a94bf450b1",
   "metadata": {},
   "outputs": [
    {
     "data": {
      "text/html": [
       "<div>\n",
       "<style scoped>\n",
       "    .dataframe tbody tr th:only-of-type {\n",
       "        vertical-align: middle;\n",
       "    }\n",
       "\n",
       "    .dataframe tbody tr th {\n",
       "        vertical-align: top;\n",
       "    }\n",
       "\n",
       "    .dataframe thead th {\n",
       "        text-align: right;\n",
       "    }\n",
       "</style>\n",
       "<table border=\"1\" class=\"dataframe\">\n",
       "  <thead>\n",
       "    <tr style=\"text-align: right;\">\n",
       "      <th></th>\n",
       "      <th>title</th>\n",
       "      <th>year</th>\n",
       "      <th>certificate</th>\n",
       "      <th>duration</th>\n",
       "      <th>genre</th>\n",
       "      <th>rating</th>\n",
       "      <th>description</th>\n",
       "      <th>votes</th>\n",
       "    </tr>\n",
       "  </thead>\n",
       "  <tbody>\n",
       "    <tr>\n",
       "      <th>0</th>\n",
       "      <td>Cobra Kai</td>\n",
       "      <td>(2018– )</td>\n",
       "      <td>TV-14</td>\n",
       "      <td>30</td>\n",
       "      <td>Action, Comedy, Drama</td>\n",
       "      <td>8.5</td>\n",
       "      <td>Decades after their 1984 All Valley Karate Tou...</td>\n",
       "      <td>177031.0</td>\n",
       "    </tr>\n",
       "    <tr>\n",
       "      <th>1</th>\n",
       "      <td>The Crown</td>\n",
       "      <td>(2016– )</td>\n",
       "      <td>TV-MA</td>\n",
       "      <td>58</td>\n",
       "      <td>Biography, Drama, History</td>\n",
       "      <td>8.7</td>\n",
       "      <td>Follows the political rivalries and romance of...</td>\n",
       "      <td>199885.0</td>\n",
       "    </tr>\n",
       "    <tr>\n",
       "      <th>2</th>\n",
       "      <td>Better Call Saul</td>\n",
       "      <td>(2015–2022)</td>\n",
       "      <td>TV-MA</td>\n",
       "      <td>46</td>\n",
       "      <td>Crime, Drama</td>\n",
       "      <td>8.9</td>\n",
       "      <td>The trials and tribulations of criminal lawyer...</td>\n",
       "      <td>501384.0</td>\n",
       "    </tr>\n",
       "    <tr>\n",
       "      <th>3</th>\n",
       "      <td>Devil in Ohio</td>\n",
       "      <td>(2022)</td>\n",
       "      <td>TV-MA</td>\n",
       "      <td>356</td>\n",
       "      <td>Drama, Horror, Mystery</td>\n",
       "      <td>5.9</td>\n",
       "      <td>When a psychiatrist shelters a mysterious cult...</td>\n",
       "      <td>9773.0</td>\n",
       "    </tr>\n",
       "    <tr>\n",
       "      <th>4</th>\n",
       "      <td>Cyberpunk: Edgerunners</td>\n",
       "      <td>(2022– )</td>\n",
       "      <td>TV-MA</td>\n",
       "      <td>24</td>\n",
       "      <td>Animation, Action, Adventure</td>\n",
       "      <td>8.6</td>\n",
       "      <td>A Street Kid trying to survive in a technology...</td>\n",
       "      <td>15413.0</td>\n",
       "    </tr>\n",
       "  </tbody>\n",
       "</table>\n",
       "</div>"
      ],
      "text/plain": [
       "                    title         year certificate  duration  \\\n",
       "0               Cobra Kai     (2018– )       TV-14        30   \n",
       "1               The Crown     (2016– )       TV-MA        58   \n",
       "2        Better Call Saul  (2015–2022)       TV-MA        46   \n",
       "3           Devil in Ohio       (2022)       TV-MA       356   \n",
       "4  Cyberpunk: Edgerunners     (2022– )       TV-MA        24   \n",
       "\n",
       "                          genre  rating  \\\n",
       "0         Action, Comedy, Drama     8.5   \n",
       "1     Biography, Drama, History     8.7   \n",
       "2                  Crime, Drama     8.9   \n",
       "3        Drama, Horror, Mystery     5.9   \n",
       "4  Animation, Action, Adventure     8.6   \n",
       "\n",
       "                                         description     votes  \n",
       "0  Decades after their 1984 All Valley Karate Tou...  177031.0  \n",
       "1  Follows the political rivalries and romance of...  199885.0  \n",
       "2  The trials and tribulations of criminal lawyer...  501384.0  \n",
       "3  When a psychiatrist shelters a mysterious cult...    9773.0  \n",
       "4  A Street Kid trying to survive in a technology...   15413.0  "
      ]
     },
     "execution_count": 29,
     "metadata": {},
     "output_type": "execute_result"
    }
   ],
   "source": [
    "clean_data.head()"
   ]
  },
  {
   "cell_type": "code",
   "execution_count": 32,
   "id": "8c70561d-293d-439e-b93f-33da086f7673",
   "metadata": {},
   "outputs": [
    {
     "data": {
      "text/html": [
       "<div>\n",
       "<style scoped>\n",
       "    .dataframe tbody tr th:only-of-type {\n",
       "        vertical-align: middle;\n",
       "    }\n",
       "\n",
       "    .dataframe tbody tr th {\n",
       "        vertical-align: top;\n",
       "    }\n",
       "\n",
       "    .dataframe thead th {\n",
       "        text-align: right;\n",
       "    }\n",
       "</style>\n",
       "<table border=\"1\" class=\"dataframe\">\n",
       "  <thead>\n",
       "    <tr style=\"text-align: right;\">\n",
       "      <th></th>\n",
       "      <th>movie_id</th>\n",
       "      <th>star_id</th>\n",
       "    </tr>\n",
       "  </thead>\n",
       "  <tbody>\n",
       "    <tr>\n",
       "      <th>0</th>\n",
       "      <td>0</td>\n",
       "      <td>1</td>\n",
       "    </tr>\n",
       "    <tr>\n",
       "      <th>1</th>\n",
       "      <td>0</td>\n",
       "      <td>2</td>\n",
       "    </tr>\n",
       "    <tr>\n",
       "      <th>2</th>\n",
       "      <td>0</td>\n",
       "      <td>3</td>\n",
       "    </tr>\n",
       "    <tr>\n",
       "      <th>3</th>\n",
       "      <td>0</td>\n",
       "      <td>4</td>\n",
       "    </tr>\n",
       "    <tr>\n",
       "      <th>4</th>\n",
       "      <td>1</td>\n",
       "      <td>5</td>\n",
       "    </tr>\n",
       "  </tbody>\n",
       "</table>\n",
       "</div>"
      ],
      "text/plain": [
       "   movie_id  star_id\n",
       "0         0        1\n",
       "1         0        2\n",
       "2         0        3\n",
       "3         0        4\n",
       "4         1        5"
      ]
     },
     "execution_count": 32,
     "metadata": {},
     "output_type": "execute_result"
    }
   ],
   "source": [
    "movie_star_table.head()"
   ]
  },
  {
   "cell_type": "code",
   "execution_count": 30,
   "id": "1adb77f1-c7f1-41fe-9105-51368d7ede03",
   "metadata": {},
   "outputs": [
    {
     "data": {
      "text/html": [
       "<div>\n",
       "<style scoped>\n",
       "    .dataframe tbody tr th:only-of-type {\n",
       "        vertical-align: middle;\n",
       "    }\n",
       "\n",
       "    .dataframe tbody tr th {\n",
       "        vertical-align: top;\n",
       "    }\n",
       "\n",
       "    .dataframe thead th {\n",
       "        text-align: right;\n",
       "    }\n",
       "</style>\n",
       "<table border=\"1\" class=\"dataframe\">\n",
       "  <thead>\n",
       "    <tr style=\"text-align: right;\">\n",
       "      <th></th>\n",
       "      <th>star_id</th>\n",
       "      <th>star_name</th>\n",
       "    </tr>\n",
       "  </thead>\n",
       "  <tbody>\n",
       "    <tr>\n",
       "      <th>0</th>\n",
       "      <td>1</td>\n",
       "      <td>Ralph Macchio</td>\n",
       "    </tr>\n",
       "    <tr>\n",
       "      <th>1</th>\n",
       "      <td>2</td>\n",
       "      <td>William Zabka</td>\n",
       "    </tr>\n",
       "    <tr>\n",
       "      <th>2</th>\n",
       "      <td>3</td>\n",
       "      <td>Courtney Henggeler</td>\n",
       "    </tr>\n",
       "    <tr>\n",
       "      <th>3</th>\n",
       "      <td>4</td>\n",
       "      <td>Xolo Maridueña</td>\n",
       "    </tr>\n",
       "    <tr>\n",
       "      <th>4</th>\n",
       "      <td>5</td>\n",
       "      <td>Claire Foy</td>\n",
       "    </tr>\n",
       "  </tbody>\n",
       "</table>\n",
       "</div>"
      ],
      "text/plain": [
       "   star_id           star_name\n",
       "0        1       Ralph Macchio\n",
       "1        2       William Zabka\n",
       "2        3  Courtney Henggeler\n",
       "3        4      Xolo Maridueña\n",
       "4        5          Claire Foy"
      ]
     },
     "execution_count": 30,
     "metadata": {},
     "output_type": "execute_result"
    }
   ],
   "source": [
    "star_table.head()"
   ]
  },
  {
   "cell_type": "markdown",
   "id": "e3ce7cc8-48b7-4160-96da-950d33b9de0e",
   "metadata": {},
   "source": [
    "We already can turn this into a sql table saving this tables as a csv file"
   ]
  },
  {
   "cell_type": "code",
   "execution_count": null,
   "id": "b5ca3d55-b969-4f73-ada1-301f511e374a",
   "metadata": {},
   "outputs": [],
   "source": [
    "movie_star_table = movie_star_table.drop_duplicates(subset=['movie_id', 'star_id'])"
   ]
  },
  {
   "cell_type": "code",
   "execution_count": 110,
   "id": "28f94e3f-91df-4bf7-9e05-17c8bc9bf74f",
   "metadata": {},
   "outputs": [],
   "source": [
    "clean_data.to_csv('imdb_movies_fact.csv', index=False)"
   ]
  },
  {
   "cell_type": "code",
   "execution_count": 122,
   "id": "b1a1269a-85e1-49d4-808e-75f4249aad3d",
   "metadata": {},
   "outputs": [],
   "source": [
    "movie_star_table.to_csv('csv_tables/movie_star_dim.csv', index=False)"
   ]
  },
  {
   "cell_type": "code",
   "execution_count": 112,
   "id": "34bf27f6-9616-47a6-93ff-4dc83bdc1ae7",
   "metadata": {},
   "outputs": [],
   "source": [
    "star_table.to_csv('star_dim.csv', index=False)"
   ]
  },
  {
   "cell_type": "markdown",
   "id": "96ced175-aaf7-48cb-8e77-f481a4d594cb",
   "metadata": {},
   "source": [
    "Creating a new table: genres"
   ]
  },
  {
   "cell_type": "code",
   "execution_count": 58,
   "id": "3ddaa84a-1e8c-45be-8390-132286552062",
   "metadata": {},
   "outputs": [
    {
     "data": {
      "text/html": [
       "<div>\n",
       "<style scoped>\n",
       "    .dataframe tbody tr th:only-of-type {\n",
       "        vertical-align: middle;\n",
       "    }\n",
       "\n",
       "    .dataframe tbody tr th {\n",
       "        vertical-align: top;\n",
       "    }\n",
       "\n",
       "    .dataframe thead th {\n",
       "        text-align: right;\n",
       "    }\n",
       "</style>\n",
       "<table border=\"1\" class=\"dataframe\">\n",
       "  <thead>\n",
       "    <tr style=\"text-align: right;\">\n",
       "      <th></th>\n",
       "      <th>movie_id</th>\n",
       "      <th>genre</th>\n",
       "    </tr>\n",
       "  </thead>\n",
       "  <tbody>\n",
       "    <tr>\n",
       "      <th>0</th>\n",
       "      <td>0</td>\n",
       "      <td>Action</td>\n",
       "    </tr>\n",
       "    <tr>\n",
       "      <th>1</th>\n",
       "      <td>0</td>\n",
       "      <td>Comedy</td>\n",
       "    </tr>\n",
       "    <tr>\n",
       "      <th>2</th>\n",
       "      <td>0</td>\n",
       "      <td>Drama</td>\n",
       "    </tr>\n",
       "    <tr>\n",
       "      <th>3</th>\n",
       "      <td>1</td>\n",
       "      <td>Biography</td>\n",
       "    </tr>\n",
       "    <tr>\n",
       "      <th>4</th>\n",
       "      <td>1</td>\n",
       "      <td>Drama</td>\n",
       "    </tr>\n",
       "  </tbody>\n",
       "</table>\n",
       "</div>"
      ],
      "text/plain": [
       "   movie_id      genre\n",
       "0         0     Action\n",
       "1         0     Comedy\n",
       "2         0      Drama\n",
       "3         1  Biography\n",
       "4         1      Drama"
      ]
     },
     "execution_count": 58,
     "metadata": {},
     "output_type": "execute_result"
    }
   ],
   "source": [
    "genres = clean_data['genre'].fillna(\"\").astype(str).str.split(\", \")\n",
    "movie_genre_list = []\n",
    "for movie_id, genre_list in genres.items():\n",
    "    for genre in genre_list:\n",
    "        movie_genre_list.append({\"movie_id\":movie_id, \"genre\":genre})\n",
    "movie_genre_list = pd.DataFrame(movie_genre_list)\n",
    "movie_genre_list.head()"
   ]
  },
  {
   "cell_type": "code",
   "execution_count": 59,
   "id": "78a1d380-423b-462b-9876-2482fadc5db3",
   "metadata": {},
   "outputs": [
    {
     "data": {
      "text/html": [
       "<div>\n",
       "<style scoped>\n",
       "    .dataframe tbody tr th:only-of-type {\n",
       "        vertical-align: middle;\n",
       "    }\n",
       "\n",
       "    .dataframe tbody tr th {\n",
       "        vertical-align: top;\n",
       "    }\n",
       "\n",
       "    .dataframe thead th {\n",
       "        text-align: right;\n",
       "    }\n",
       "</style>\n",
       "<table border=\"1\" class=\"dataframe\">\n",
       "  <thead>\n",
       "    <tr style=\"text-align: right;\">\n",
       "      <th></th>\n",
       "      <th>genre_id</th>\n",
       "      <th>genre</th>\n",
       "    </tr>\n",
       "  </thead>\n",
       "  <tbody>\n",
       "    <tr>\n",
       "      <th>0</th>\n",
       "      <td>1</td>\n",
       "      <td>Action</td>\n",
       "    </tr>\n",
       "    <tr>\n",
       "      <th>1</th>\n",
       "      <td>2</td>\n",
       "      <td>Comedy</td>\n",
       "    </tr>\n",
       "    <tr>\n",
       "      <th>2</th>\n",
       "      <td>3</td>\n",
       "      <td>Drama</td>\n",
       "    </tr>\n",
       "    <tr>\n",
       "      <th>3</th>\n",
       "      <td>4</td>\n",
       "      <td>Biography</td>\n",
       "    </tr>\n",
       "    <tr>\n",
       "      <th>4</th>\n",
       "      <td>5</td>\n",
       "      <td>History</td>\n",
       "    </tr>\n",
       "  </tbody>\n",
       "</table>\n",
       "</div>"
      ],
      "text/plain": [
       "   genre_id      genre\n",
       "0         1     Action\n",
       "1         2     Comedy\n",
       "2         3      Drama\n",
       "3         4  Biography\n",
       "4         5    History"
      ]
     },
     "execution_count": 59,
     "metadata": {},
     "output_type": "execute_result"
    }
   ],
   "source": [
    "unique_genres = movie_genre_list['genre'].drop_duplicates().reset_index(drop=True)\n",
    "genre_table = pd.DataFrame({'genre_id':range(1, len(unique_genres)+1), 'genre': unique_genres})\n",
    "genre_table.head()"
   ]
  },
  {
   "cell_type": "code",
   "execution_count": 61,
   "id": "a5c50fc5-566a-4b09-9c59-134caa05803a",
   "metadata": {},
   "outputs": [
    {
     "ename": "KeyError",
     "evalue": "'genre'",
     "output_type": "error",
     "traceback": [
      "\u001b[1;31m---------------------------------------------------------------------------\u001b[0m",
      "\u001b[1;31mKeyError\u001b[0m                                  Traceback (most recent call last)",
      "\u001b[1;32m~\\AppData\\Local\\Temp\\ipykernel_6540\\1061471251.py\u001b[0m in \u001b[0;36m?\u001b[1;34m()\u001b[0m\n\u001b[1;32m----> 1\u001b[1;33m \u001b[0mmovie_genre_list\u001b[0m \u001b[1;33m=\u001b[0m \u001b[0mmovie_genre_list\u001b[0m\u001b[1;33m.\u001b[0m\u001b[0mmerge\u001b[0m\u001b[1;33m(\u001b[0m\u001b[0mgenre_table\u001b[0m\u001b[1;33m,\u001b[0m \u001b[0mon\u001b[0m\u001b[1;33m=\u001b[0m\u001b[1;34m'genre'\u001b[0m\u001b[1;33m,\u001b[0m \u001b[0mhow\u001b[0m\u001b[1;33m=\u001b[0m\u001b[1;34m'left'\u001b[0m\u001b[1;33m)\u001b[0m\u001b[1;33m\u001b[0m\u001b[1;33m\u001b[0m\u001b[0m\n\u001b[0m\u001b[0;32m      2\u001b[0m \u001b[0mmovie_genre_list\u001b[0m \u001b[1;33m=\u001b[0m \u001b[0mmovie_genre_list\u001b[0m\u001b[1;33m[\u001b[0m\u001b[1;33m[\u001b[0m\u001b[1;34m'movie_id'\u001b[0m\u001b[1;33m,\u001b[0m \u001b[1;34m'genre_id'\u001b[0m\u001b[1;33m]\u001b[0m\u001b[1;33m]\u001b[0m\u001b[1;33m\u001b[0m\u001b[1;33m\u001b[0m\u001b[0m\n\u001b[0;32m      3\u001b[0m \u001b[0mmovie_genre_list\u001b[0m\u001b[1;33m.\u001b[0m\u001b[0mhead\u001b[0m\u001b[1;33m(\u001b[0m\u001b[1;33m)\u001b[0m\u001b[1;33m\u001b[0m\u001b[1;33m\u001b[0m\u001b[0m\n",
      "\u001b[1;32mD:\\Programs\\Python\\Lib\\site-packages\\pandas\\core\\frame.py\u001b[0m in \u001b[0;36m?\u001b[1;34m(self, right, how, on, left_on, right_on, left_index, right_index, sort, suffixes, copy, indicator, validate)\u001b[0m\n\u001b[0;32m  10828\u001b[0m         \u001b[0mvalidate\u001b[0m\u001b[1;33m:\u001b[0m \u001b[0mMergeValidate\u001b[0m \u001b[1;33m|\u001b[0m \u001b[1;32mNone\u001b[0m \u001b[1;33m=\u001b[0m \u001b[1;32mNone\u001b[0m\u001b[1;33m,\u001b[0m\u001b[1;33m\u001b[0m\u001b[1;33m\u001b[0m\u001b[0m\n\u001b[0;32m  10829\u001b[0m     \u001b[1;33m)\u001b[0m \u001b[1;33m->\u001b[0m \u001b[0mDataFrame\u001b[0m\u001b[1;33m:\u001b[0m\u001b[1;33m\u001b[0m\u001b[1;33m\u001b[0m\u001b[0m\n\u001b[0;32m  10830\u001b[0m         \u001b[1;32mfrom\u001b[0m \u001b[0mpandas\u001b[0m\u001b[1;33m.\u001b[0m\u001b[0mcore\u001b[0m\u001b[1;33m.\u001b[0m\u001b[0mreshape\u001b[0m\u001b[1;33m.\u001b[0m\u001b[0mmerge\u001b[0m \u001b[1;32mimport\u001b[0m \u001b[0mmerge\u001b[0m\u001b[1;33m\u001b[0m\u001b[1;33m\u001b[0m\u001b[0m\n\u001b[0;32m  10831\u001b[0m \u001b[1;33m\u001b[0m\u001b[0m\n\u001b[1;32m> 10832\u001b[1;33m         return merge(\n\u001b[0m\u001b[0;32m  10833\u001b[0m             \u001b[0mself\u001b[0m\u001b[1;33m,\u001b[0m\u001b[1;33m\u001b[0m\u001b[1;33m\u001b[0m\u001b[0m\n\u001b[0;32m  10834\u001b[0m             \u001b[0mright\u001b[0m\u001b[1;33m,\u001b[0m\u001b[1;33m\u001b[0m\u001b[1;33m\u001b[0m\u001b[0m\n\u001b[0;32m  10835\u001b[0m             \u001b[0mhow\u001b[0m\u001b[1;33m=\u001b[0m\u001b[0mhow\u001b[0m\u001b[1;33m,\u001b[0m\u001b[1;33m\u001b[0m\u001b[1;33m\u001b[0m\u001b[0m\n",
      "\u001b[1;32mD:\\Programs\\Python\\Lib\\site-packages\\pandas\\core\\reshape\\merge.py\u001b[0m in \u001b[0;36m?\u001b[1;34m(left, right, how, on, left_on, right_on, left_index, right_index, sort, suffixes, copy, indicator, validate)\u001b[0m\n\u001b[0;32m    166\u001b[0m             \u001b[0mvalidate\u001b[0m\u001b[1;33m=\u001b[0m\u001b[0mvalidate\u001b[0m\u001b[1;33m,\u001b[0m\u001b[1;33m\u001b[0m\u001b[1;33m\u001b[0m\u001b[0m\n\u001b[0;32m    167\u001b[0m             \u001b[0mcopy\u001b[0m\u001b[1;33m=\u001b[0m\u001b[0mcopy\u001b[0m\u001b[1;33m,\u001b[0m\u001b[1;33m\u001b[0m\u001b[1;33m\u001b[0m\u001b[0m\n\u001b[0;32m    168\u001b[0m         \u001b[1;33m)\u001b[0m\u001b[1;33m\u001b[0m\u001b[1;33m\u001b[0m\u001b[0m\n\u001b[0;32m    169\u001b[0m     \u001b[1;32melse\u001b[0m\u001b[1;33m:\u001b[0m\u001b[1;33m\u001b[0m\u001b[1;33m\u001b[0m\u001b[0m\n\u001b[1;32m--> 170\u001b[1;33m         op = _MergeOperation(\n\u001b[0m\u001b[0;32m    171\u001b[0m             \u001b[0mleft_df\u001b[0m\u001b[1;33m,\u001b[0m\u001b[1;33m\u001b[0m\u001b[1;33m\u001b[0m\u001b[0m\n\u001b[0;32m    172\u001b[0m             \u001b[0mright_df\u001b[0m\u001b[1;33m,\u001b[0m\u001b[1;33m\u001b[0m\u001b[1;33m\u001b[0m\u001b[0m\n\u001b[0;32m    173\u001b[0m             \u001b[0mhow\u001b[0m\u001b[1;33m=\u001b[0m\u001b[0mhow\u001b[0m\u001b[1;33m,\u001b[0m\u001b[1;33m\u001b[0m\u001b[1;33m\u001b[0m\u001b[0m\n",
      "\u001b[1;32mD:\\Programs\\Python\\Lib\\site-packages\\pandas\\core\\reshape\\merge.py\u001b[0m in \u001b[0;36m?\u001b[1;34m(self, left, right, how, on, left_on, right_on, left_index, right_index, sort, suffixes, indicator, validate)\u001b[0m\n\u001b[0;32m    790\u001b[0m             \u001b[0mself\u001b[0m\u001b[1;33m.\u001b[0m\u001b[0mright_join_keys\u001b[0m\u001b[1;33m,\u001b[0m\u001b[1;33m\u001b[0m\u001b[1;33m\u001b[0m\u001b[0m\n\u001b[0;32m    791\u001b[0m             \u001b[0mself\u001b[0m\u001b[1;33m.\u001b[0m\u001b[0mjoin_names\u001b[0m\u001b[1;33m,\u001b[0m\u001b[1;33m\u001b[0m\u001b[1;33m\u001b[0m\u001b[0m\n\u001b[0;32m    792\u001b[0m             \u001b[0mleft_drop\u001b[0m\u001b[1;33m,\u001b[0m\u001b[1;33m\u001b[0m\u001b[1;33m\u001b[0m\u001b[0m\n\u001b[0;32m    793\u001b[0m             \u001b[0mright_drop\u001b[0m\u001b[1;33m,\u001b[0m\u001b[1;33m\u001b[0m\u001b[1;33m\u001b[0m\u001b[0m\n\u001b[1;32m--> 794\u001b[1;33m         \u001b[1;33m)\u001b[0m \u001b[1;33m=\u001b[0m \u001b[0mself\u001b[0m\u001b[1;33m.\u001b[0m\u001b[0m_get_merge_keys\u001b[0m\u001b[1;33m(\u001b[0m\u001b[1;33m)\u001b[0m\u001b[1;33m\u001b[0m\u001b[1;33m\u001b[0m\u001b[0m\n\u001b[0m\u001b[0;32m    795\u001b[0m \u001b[1;33m\u001b[0m\u001b[0m\n\u001b[0;32m    796\u001b[0m         \u001b[1;32mif\u001b[0m \u001b[0mleft_drop\u001b[0m\u001b[1;33m:\u001b[0m\u001b[1;33m\u001b[0m\u001b[1;33m\u001b[0m\u001b[0m\n\u001b[0;32m    797\u001b[0m             \u001b[0mself\u001b[0m\u001b[1;33m.\u001b[0m\u001b[0mleft\u001b[0m \u001b[1;33m=\u001b[0m \u001b[0mself\u001b[0m\u001b[1;33m.\u001b[0m\u001b[0mleft\u001b[0m\u001b[1;33m.\u001b[0m\u001b[0m_drop_labels_or_levels\u001b[0m\u001b[1;33m(\u001b[0m\u001b[0mleft_drop\u001b[0m\u001b[1;33m)\u001b[0m\u001b[1;33m\u001b[0m\u001b[1;33m\u001b[0m\u001b[0m\n",
      "\u001b[1;32mD:\\Programs\\Python\\Lib\\site-packages\\pandas\\core\\reshape\\merge.py\u001b[0m in \u001b[0;36m?\u001b[1;34m(self)\u001b[0m\n\u001b[0;32m   1306\u001b[0m                     \u001b[1;32mif\u001b[0m \u001b[0mlk\u001b[0m \u001b[1;32mis\u001b[0m \u001b[1;32mnot\u001b[0m \u001b[1;32mNone\u001b[0m\u001b[1;33m:\u001b[0m\u001b[1;33m\u001b[0m\u001b[1;33m\u001b[0m\u001b[0m\n\u001b[0;32m   1307\u001b[0m                         \u001b[1;31m# Then we're either Hashable or a wrong-length arraylike,\u001b[0m\u001b[1;33m\u001b[0m\u001b[1;33m\u001b[0m\u001b[0m\n\u001b[0;32m   1308\u001b[0m                         \u001b[1;31m#  the latter of which will raise\u001b[0m\u001b[1;33m\u001b[0m\u001b[1;33m\u001b[0m\u001b[0m\n\u001b[0;32m   1309\u001b[0m                         \u001b[0mlk\u001b[0m \u001b[1;33m=\u001b[0m \u001b[0mcast\u001b[0m\u001b[1;33m(\u001b[0m\u001b[0mHashable\u001b[0m\u001b[1;33m,\u001b[0m \u001b[0mlk\u001b[0m\u001b[1;33m)\u001b[0m\u001b[1;33m\u001b[0m\u001b[1;33m\u001b[0m\u001b[0m\n\u001b[1;32m-> 1310\u001b[1;33m                         \u001b[0mleft_keys\u001b[0m\u001b[1;33m.\u001b[0m\u001b[0mappend\u001b[0m\u001b[1;33m(\u001b[0m\u001b[0mleft\u001b[0m\u001b[1;33m.\u001b[0m\u001b[0m_get_label_or_level_values\u001b[0m\u001b[1;33m(\u001b[0m\u001b[0mlk\u001b[0m\u001b[1;33m)\u001b[0m\u001b[1;33m)\u001b[0m\u001b[1;33m\u001b[0m\u001b[1;33m\u001b[0m\u001b[0m\n\u001b[0m\u001b[0;32m   1311\u001b[0m                         \u001b[0mjoin_names\u001b[0m\u001b[1;33m.\u001b[0m\u001b[0mappend\u001b[0m\u001b[1;33m(\u001b[0m\u001b[0mlk\u001b[0m\u001b[1;33m)\u001b[0m\u001b[1;33m\u001b[0m\u001b[1;33m\u001b[0m\u001b[0m\n\u001b[0;32m   1312\u001b[0m                     \u001b[1;32melse\u001b[0m\u001b[1;33m:\u001b[0m\u001b[1;33m\u001b[0m\u001b[1;33m\u001b[0m\u001b[0m\n\u001b[0;32m   1313\u001b[0m                         \u001b[1;31m# work-around for merge_asof(left_index=True)\u001b[0m\u001b[1;33m\u001b[0m\u001b[1;33m\u001b[0m\u001b[0m\n",
      "\u001b[1;32mD:\\Programs\\Python\\Lib\\site-packages\\pandas\\core\\generic.py\u001b[0m in \u001b[0;36m?\u001b[1;34m(self, key, axis)\u001b[0m\n\u001b[0;32m   1907\u001b[0m             \u001b[0mvalues\u001b[0m \u001b[1;33m=\u001b[0m \u001b[0mself\u001b[0m\u001b[1;33m.\u001b[0m\u001b[0mxs\u001b[0m\u001b[1;33m(\u001b[0m\u001b[0mkey\u001b[0m\u001b[1;33m,\u001b[0m \u001b[0maxis\u001b[0m\u001b[1;33m=\u001b[0m\u001b[0mother_axes\u001b[0m\u001b[1;33m[\u001b[0m\u001b[1;36m0\u001b[0m\u001b[1;33m]\u001b[0m\u001b[1;33m)\u001b[0m\u001b[1;33m.\u001b[0m\u001b[0m_values\u001b[0m\u001b[1;33m\u001b[0m\u001b[1;33m\u001b[0m\u001b[0m\n\u001b[0;32m   1908\u001b[0m         \u001b[1;32melif\u001b[0m \u001b[0mself\u001b[0m\u001b[1;33m.\u001b[0m\u001b[0m_is_level_reference\u001b[0m\u001b[1;33m(\u001b[0m\u001b[0mkey\u001b[0m\u001b[1;33m,\u001b[0m \u001b[0maxis\u001b[0m\u001b[1;33m=\u001b[0m\u001b[0maxis\u001b[0m\u001b[1;33m)\u001b[0m\u001b[1;33m:\u001b[0m\u001b[1;33m\u001b[0m\u001b[1;33m\u001b[0m\u001b[0m\n\u001b[0;32m   1909\u001b[0m             \u001b[0mvalues\u001b[0m \u001b[1;33m=\u001b[0m \u001b[0mself\u001b[0m\u001b[1;33m.\u001b[0m\u001b[0maxes\u001b[0m\u001b[1;33m[\u001b[0m\u001b[0maxis\u001b[0m\u001b[1;33m]\u001b[0m\u001b[1;33m.\u001b[0m\u001b[0mget_level_values\u001b[0m\u001b[1;33m(\u001b[0m\u001b[0mkey\u001b[0m\u001b[1;33m)\u001b[0m\u001b[1;33m.\u001b[0m\u001b[0m_values\u001b[0m\u001b[1;33m\u001b[0m\u001b[1;33m\u001b[0m\u001b[0m\n\u001b[0;32m   1910\u001b[0m         \u001b[1;32melse\u001b[0m\u001b[1;33m:\u001b[0m\u001b[1;33m\u001b[0m\u001b[1;33m\u001b[0m\u001b[0m\n\u001b[1;32m-> 1911\u001b[1;33m             \u001b[1;32mraise\u001b[0m \u001b[0mKeyError\u001b[0m\u001b[1;33m(\u001b[0m\u001b[0mkey\u001b[0m\u001b[1;33m)\u001b[0m\u001b[1;33m\u001b[0m\u001b[1;33m\u001b[0m\u001b[0m\n\u001b[0m\u001b[0;32m   1912\u001b[0m \u001b[1;33m\u001b[0m\u001b[0m\n\u001b[0;32m   1913\u001b[0m         \u001b[1;31m# Check for duplicates\u001b[0m\u001b[1;33m\u001b[0m\u001b[1;33m\u001b[0m\u001b[0m\n\u001b[0;32m   1914\u001b[0m         \u001b[1;32mif\u001b[0m \u001b[0mvalues\u001b[0m\u001b[1;33m.\u001b[0m\u001b[0mndim\u001b[0m \u001b[1;33m>\u001b[0m \u001b[1;36m1\u001b[0m\u001b[1;33m:\u001b[0m\u001b[1;33m\u001b[0m\u001b[1;33m\u001b[0m\u001b[0m\n",
      "\u001b[1;31mKeyError\u001b[0m: 'genre'"
     ]
    }
   ],
   "source": [
    "movie_genre_list = movie_genre_list.merge(genre_table, on='genre', how='left')\n",
    "movie_genre_list = movie_genre_list[['movie_id', 'genre_id']]"
   ]
  },
  {
   "cell_type": "code",
   "execution_count": 62,
   "id": "e95f4c47-0b8f-47e8-9b3c-04d3c2fb3a6b",
   "metadata": {},
   "outputs": [
    {
     "data": {
      "text/html": [
       "<div>\n",
       "<style scoped>\n",
       "    .dataframe tbody tr th:only-of-type {\n",
       "        vertical-align: middle;\n",
       "    }\n",
       "\n",
       "    .dataframe tbody tr th {\n",
       "        vertical-align: top;\n",
       "    }\n",
       "\n",
       "    .dataframe thead th {\n",
       "        text-align: right;\n",
       "    }\n",
       "</style>\n",
       "<table border=\"1\" class=\"dataframe\">\n",
       "  <thead>\n",
       "    <tr style=\"text-align: right;\">\n",
       "      <th></th>\n",
       "      <th>movie_id</th>\n",
       "      <th>genre_id</th>\n",
       "    </tr>\n",
       "  </thead>\n",
       "  <tbody>\n",
       "    <tr>\n",
       "      <th>0</th>\n",
       "      <td>0</td>\n",
       "      <td>1</td>\n",
       "    </tr>\n",
       "    <tr>\n",
       "      <th>1</th>\n",
       "      <td>0</td>\n",
       "      <td>2</td>\n",
       "    </tr>\n",
       "    <tr>\n",
       "      <th>2</th>\n",
       "      <td>0</td>\n",
       "      <td>3</td>\n",
       "    </tr>\n",
       "    <tr>\n",
       "      <th>3</th>\n",
       "      <td>1</td>\n",
       "      <td>4</td>\n",
       "    </tr>\n",
       "    <tr>\n",
       "      <th>4</th>\n",
       "      <td>1</td>\n",
       "      <td>3</td>\n",
       "    </tr>\n",
       "  </tbody>\n",
       "</table>\n",
       "</div>"
      ],
      "text/plain": [
       "   movie_id  genre_id\n",
       "0         0         1\n",
       "1         0         2\n",
       "2         0         3\n",
       "3         1         4\n",
       "4         1         3"
      ]
     },
     "execution_count": 62,
     "metadata": {},
     "output_type": "execute_result"
    }
   ],
   "source": [
    "movie_genre_list.head()"
   ]
  },
  {
   "cell_type": "code",
   "execution_count": 64,
   "id": "4fd6ce5b-3692-4d7e-8836-e628d4e1921e",
   "metadata": {},
   "outputs": [],
   "source": [
    "movie_genre_list.to_csv('csv_tables/movie_genre_dim.csv', index=False)\n",
    "genre_table.to_csv('csv_tables/genres_dim.csv', index=False)"
   ]
  }
 ],
 "metadata": {
  "kernelspec": {
   "display_name": "Python 3 (ipykernel)",
   "language": "python",
   "name": "python3"
  },
  "language_info": {
   "codemirror_mode": {
    "name": "ipython",
    "version": 3
   },
   "file_extension": ".py",
   "mimetype": "text/x-python",
   "name": "python",
   "nbconvert_exporter": "python",
   "pygments_lexer": "ipython3",
   "version": "3.13.1"
  }
 },
 "nbformat": 4,
 "nbformat_minor": 5
}
